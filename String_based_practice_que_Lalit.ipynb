{
 "cells": [
  {
   "cell_type": "code",
   "execution_count": 1,
   "metadata": {},
   "outputs": [],
   "source": [
    "##TOPIC: String Based Assignment Problem"
   ]
  },
  {
   "cell_type": "code",
   "execution_count": 9,
   "metadata": {},
   "outputs": [
    {
     "name": "stdout",
     "output_type": "stream",
     "text": [
      "(4, 3, 2, 1)\n",
      "olleh\n"
     ]
    }
   ],
   "source": [
    "#1. Write a program to reverse a string.\n",
    "#here i have written a code without defining it in a function and with defining a function so user can use that function for reversing a string \n",
    "#without\n",
    "a=(1,2,3,4)\n",
    "print(a[::-1])\n",
    "#with definig a function\n",
    "def reverse_string(a):\n",
    "    return a[::-1]\n",
    "print(reverse_string('hello'))"
   ]
  },
  {
   "cell_type": "markdown",
   "metadata": {},
   "source": [
    "-The slicing syntax [::-1] reverses the string by iterating from the end to the start with a step of -1.\n"
   ]
  },
  {
   "cell_type": "code",
   "execution_count": 14,
   "metadata": {},
   "outputs": [
    {
     "name": "stdout",
     "output_type": "stream",
     "text": [
      "radar\n",
      "True\n"
     ]
    }
   ],
   "source": [
    "#2. Check if a string is a palindrome.\n",
    "# Palindromes are significant in data structures, algorithms, and linguistics.\n",
    "#here palindrome is nothing but starting and ending of the sentence or word or string should be same \n",
    "a = ('radar')\n",
    "b=a[::-1]\n",
    "print(b)\n",
    "#with defining a function\n",
    "def is_palindrome(c):\n",
    "    return c == c[::-1]\n",
    "\n",
    "# Example\n",
    "print(is_palindrome(\"radar\"))\n",
    "#Compare the string with its reverse (s[::-1])."
   ]
  },
  {
   "cell_type": "code",
   "execution_count": 18,
   "metadata": {},
   "outputs": [
    {
     "name": "stdout",
     "output_type": "stream",
     "text": [
      "LALIT\n",
      "MAYUR\n"
     ]
    }
   ],
   "source": [
    "#3. Convert a string to uppercase.\n",
    "#Changing all characters in a string to uppercase\n",
    "a = ('lalit')\n",
    "a = a.upper()\n",
    "print(a)\n",
    "#with defining a function\n",
    "def uppercase(c):\n",
    "    return c.upper()\n",
    "print(uppercase('mayur'))\n",
    "#Use Python's str.upper() method."
   ]
  },
  {
   "cell_type": "code",
   "execution_count": 22,
   "metadata": {},
   "outputs": [
    {
     "name": "stdout",
     "output_type": "stream",
     "text": [
      "lalit\n",
      "mahesh\n"
     ]
    }
   ],
   "source": [
    "#4. Convert a String to Lowercase\n",
    "a = ('LALIT')\n",
    "a = a.lower()\n",
    "print(a)\n",
    "#with defining a function\n",
    "def to_lowercase(a):\n",
    "    return a.lower()\n",
    "print(to_lowercase('MAHESH'))\n",
    "#Use Python's str.lower() method."
   ]
  },
  {
   "cell_type": "code",
   "execution_count": 25,
   "metadata": {},
   "outputs": [
    {
     "name": "stdout",
     "output_type": "stream",
     "text": [
      "22\n",
      "2\n"
     ]
    }
   ],
   "source": [
    "#5. Count the Number of Vowels in a String\n",
    "#Count vowels (a, e, i, o, u).\n",
    "a = ('a man without a without a purpose is not captain of his soul')\n",
    "vowels = \"aeiouAEIOU\"\n",
    "a = sum(1 for char in a if char in vowels)\n",
    "print(a)\n",
    "#With defining a function\n",
    "def count_vowels(s):\n",
    "    return sum(1 for char in s if char in vowels)\n",
    "print(count_vowels('fate'))\n",
    "# Iterate through the string and check if each character is a vowel."
   ]
  },
  {
   "cell_type": "code",
   "execution_count": 26,
   "metadata": {},
   "outputs": [
    {
     "name": "stdout",
     "output_type": "stream",
     "text": [
      "3\n"
     ]
    }
   ],
   "source": [
    "#6. Count the Number of Consonants in a String\n",
    "#Count non-vowel alphabetic characters.\n",
    "def count_consonants(s):\n",
    "    vowels = \"aeiouAEIOU\"\n",
    "    return sum(1 for char in s if char.isalpha() and char not in vowels)\n",
    "\n",
    "print(count_consonants(\"hello\"))\n",
    "#Consonant counting complements vowel counting.\n",
    "#Check for alphabetic characters that are not vowels."
   ]
  },
  {
   "cell_type": "code",
   "execution_count": 32,
   "metadata": {},
   "outputs": [
    {
     "name": "stdout",
     "output_type": "stream",
     "text": [
      "helloworld\n",
      "amanwithoutawithoutapurposeisnotcaptainofhissoul\n"
     ]
    }
   ],
   "source": [
    "#7. Remove All Whitespaces from a String\n",
    "#If there is any space between the sentence that would be removed and that sentence will be joined\n",
    "def remove_whitespaces(s):\n",
    "    return s.replace(\" \", \"\")\n",
    "print(remove_whitespaces(\"hello world\"))\n",
    "\n",
    "a = ('a man without a without a purpose is not captain of his soul').replace(\" \", \"\")\n",
    "\n",
    "print(a)\n"
   ]
  },
  {
   "cell_type": "code",
   "execution_count": 33,
   "metadata": {},
   "outputs": [
    {
     "name": "stdout",
     "output_type": "stream",
     "text": [
      "60\n"
     ]
    }
   ],
   "source": [
    "#8. Find the Length of a String Without len() function\n",
    "#Determine string length manually.\n",
    "a = ('a man without a without a purpose is not captain of his soul')\n",
    "def string_length(a):\n",
    "    count = 0\n",
    "    for _ in a:\n",
    "        count+=1\n",
    "    return count\n",
    "print(string_length(a))\n",
    "#Here we define a function named string_length to measure the length of the string."
   ]
  },
  {
   "cell_type": "markdown",
   "metadata": {},
   "source": [
    "-So the code is simple after defining the function we used count each character from zero position. and if there is any space between them we iterate it in for loop and summing them with one."
   ]
  },
  {
   "cell_type": "code",
   "execution_count": 36,
   "metadata": {},
   "outputs": [
    {
     "name": "stdout",
     "output_type": "stream",
     "text": [
      "False\n"
     ]
    }
   ],
   "source": [
    "#9. Check if a String Contains a Specific Word\n",
    "#Checking for substrings is a frequent operation in search tasks.\n",
    "def contains_word(s, word):\n",
    "    return word in s\n",
    "\n",
    "print(contains_word(\"hello world\", \"desale\"))\n",
    "#Use the in keyword to check substring presence.\n",
    "#Here i have taken the another word wich i not present in the string "
   ]
  },
  {
   "cell_type": "code",
   "execution_count": 37,
   "metadata": {},
   "outputs": [
    {
     "name": "stdout",
     "output_type": "stream",
     "text": [
      "a man without a aim is not captain of his soul\n"
     ]
    }
   ],
   "source": [
    "#10. Replace a Word in a String\n",
    "def replace_word(s, old, new):\n",
    "    return s.replace(old, new)\n",
    "\n",
    "print(replace_word(\"a man without a purpose is not captain of his soul\", \"purpose\", \"aim\"))\n",
    "#here i used the str.replace() method\n",
    "#Replacing words is common in text processing.\n"
   ]
  },
  {
   "cell_type": "code",
   "execution_count": 38,
   "metadata": {},
   "outputs": [
    {
     "name": "stdout",
     "output_type": "stream",
     "text": [
      "2\n"
     ]
    }
   ],
   "source": [
    "#11. Count the Occurrences of a Word in a String\n",
    "def count_word_occurrences(s, word):\n",
    "    return s.count(word)\n",
    "\n",
    "print(count_word_occurrences(\"a man without a purpose is not captain of his soul and man without his purspose  nor captain of his destiny\", \"man\"))\n",
    "#Word frequency is used in natural language processing.\n",
    "#Use the str.count() method."
   ]
  },
  {
   "cell_type": "code",
   "execution_count": 39,
   "metadata": {},
   "outputs": [
    {
     "name": "stdout",
     "output_type": "stream",
     "text": [
      "0\n"
     ]
    }
   ],
   "source": [
    "#12. Find the First Occurrence of a Word in a String\n",
    "def first_occurrence(s, word):\n",
    "    return s.find(word)\n",
    "\n",
    "print(first_occurrence(\"hello world, hello Python\", \"hello\"))\n",
    "#Finding specific locations is essential in parsing tasks.\n",
    "#Use the str.find() method for finding the first positon of the word in the given string "
   ]
  },
  {
   "cell_type": "code",
   "execution_count": 40,
   "metadata": {},
   "outputs": [
    {
     "name": "stdout",
     "output_type": "stream",
     "text": [
      "13\n"
     ]
    }
   ],
   "source": [
    "#13. Find the Last Occurrence of a Word in a String\n",
    "def last_occurrence(s, word):\n",
    "    return s.rfind(word)\n",
    "\n",
    "print(last_occurrence(\"hello world, hello Python\", \"hello\"))\n",
    "#So here at the 13th position the character h start of word hello so had printed the position\n",
    "#Use the str.rfind() method."
   ]
  },
  {
   "cell_type": "code",
   "execution_count": 46,
   "metadata": {},
   "outputs": [
    {
     "name": "stdout",
     "output_type": "stream",
     "text": [
      "['My', 'name', 'is', 'Khan']\n"
     ]
    }
   ],
   "source": [
    "#14. Split a String into a List of Words\n",
    "def split_into_words(s):\n",
    "    return s.split()\n",
    "print(split_into_words(\"My name is Khan\"))\n",
    "#here by using the split() we define each word in a list seperately"
   ]
  },
  {
   "cell_type": "code",
   "execution_count": 47,
   "metadata": {},
   "outputs": [
    {
     "name": "stdout",
     "output_type": "stream",
     "text": [
      "My name is robust\n"
     ]
    }
   ],
   "source": [
    "#15. Join a List of Words into a String\n",
    "def join_words(words):\n",
    "    return \" \".join(words)\n",
    "\n",
    "print(join_words([\"My name\",\"is\", \"robust\"]))\n",
    "#Joining words is useful for reassembling text.\n"
   ]
  },
  {
   "cell_type": "code",
   "execution_count": 50,
   "metadata": {},
   "outputs": [
    {
     "name": "stdout",
     "output_type": "stream",
     "text": [
      "Hello,_this_world_is_so_small_but_i_am_happy\n"
     ]
    }
   ],
   "source": [
    "#16. Convert a string where words are separated by spaces to one where words are separated by underscores\n",
    "def convert_to_underscores(s):\n",
    "    # Replace spaces with underscores\n",
    "    return s.replace(\" \", \"_\")\n",
    "\n",
    "input_string = \"Hello, this world is so small but i am happy\"\n",
    "result = convert_to_underscores(input_string)\n",
    "print(result)\n",
    "#The replace() method is used to replace all occurrences of a space (\" \") with an underscore (\"_\")."
   ]
  },
  {
   "cell_type": "code",
   "execution_count": 57,
   "metadata": {},
   "outputs": [
    {
     "name": "stdout",
     "output_type": "stream",
     "text": [
      "True\n"
     ]
    }
   ],
   "source": [
    "#17. Check if a string starts with a specific word or phrase\n",
    "def starts_with(s, prefix):\n",
    "    # Use the startswith() method\n",
    "    return s.startswith(prefix)\n",
    "\n",
    "string = \"I am new here.\"\n",
    "prefix = \"I\"\n",
    "result = starts_with(string, prefix)\n",
    "print(result)\n",
    "#The startswith() method checks whether the string begins with the given prefix"
   ]
  },
  {
   "cell_type": "code",
   "execution_count": 58,
   "metadata": {},
   "outputs": [
    {
     "name": "stdout",
     "output_type": "stream",
     "text": [
      "True\n"
     ]
    }
   ],
   "source": [
    "#18. Check if a string ends with a specific word or phrase\n",
    "def ends_with(s, suffix):\n",
    "    # Use the endswith() method\n",
    "    return s.endswith(suffix)\n",
    "string = \"I am new here\"\n",
    "suffix = \"here\"\n",
    "result = ends_with(string, suffix)\n",
    "print(result)\n",
    "#The endswith() method checks whether the string ends with the given suffix."
   ]
  },
  {
   "cell_type": "code",
   "execution_count": 59,
   "metadata": {},
   "outputs": [
    {
     "name": "stdout",
     "output_type": "stream",
     "text": [
      "I Am So Funny Personality\n"
     ]
    }
   ],
   "source": [
    "#19. Convert a string to title case\n",
    "def to_title_case(s):\n",
    "    # Use the title() method\n",
    "    return s.title()\n",
    "string = \"i am so funny personality\"\n",
    "result = to_title_case(string)\n",
    "print(result)\n",
    "#The title() method capitalizes the first letter of each word in the string."
   ]
  },
  {
   "cell_type": "code",
   "execution_count": 60,
   "metadata": {},
   "outputs": [
    {
     "name": "stdout",
     "output_type": "stream",
     "text": [
      "programming\n"
     ]
    }
   ],
   "source": [
    "#20. Find the longest word in a string\n",
    "def longest_word(s):\n",
    "    # Split the string into words\n",
    "    words = s.split()\n",
    "    # Use max with key=len to find the longest word\n",
    "    return max(words, key=len)\n",
    "string = \"Go-line programming is enjoyable\"\n",
    "result = longest_word(string)\n",
    "print(result)\n",
    "#The max() function is combined with key=len to find the word with the greatest length."
   ]
  },
  {
   "cell_type": "code",
   "execution_count": 61,
   "metadata": {},
   "outputs": [
    {
     "name": "stdout",
     "output_type": "stream",
     "text": [
      "is\n"
     ]
    }
   ],
   "source": [
    "#21. Find the shortest word in a string\n",
    "def shortest_word(s):\n",
    "    # Split the string into words\n",
    "    words = s.split()\n",
    "    # Use min with key=len to find the shortest word\n",
    "    return min(words, key=len)\n",
    "string = \"Go-line programming is fun\"\n",
    "result = shortest_word(string)\n",
    "print(result)\n",
    "#The min() function is combined with key=len to find the word with the smallest length."
   ]
  },
  {
   "cell_type": "code",
   "execution_count": 63,
   "metadata": {},
   "outputs": [
    {
     "name": "stdout",
     "output_type": "stream",
     "text": [
      "happy am i but small so is world this Hello,\n"
     ]
    }
   ],
   "source": [
    "#22. Reverse the order of words in a string\n",
    "def reverse_words(s):\n",
    "    # Split the string into words and reverse the list\n",
    "    s = s.split()\n",
    "    # Join the words in reverse order\n",
    "    return \" \".join(s[::-1])\n",
    "string = \"Hello, this world is so small but i am happy\"\n",
    "result = reverse_words(string)\n",
    "print(result)\n",
    "#split() breaks the string into a list of words.\n",
    "#[::-1] reverses the list of words.\n",
    "#\" \".join() combines the words into a reversed string."
   ]
  },
  {
   "cell_type": "code",
   "execution_count": 64,
   "metadata": {},
   "outputs": [
    {
     "name": "stdout",
     "output_type": "stream",
     "text": [
      "True\n",
      "False\n"
     ]
    }
   ],
   "source": [
    "#23. Check if a string is alphanumeric\n",
    "def is_alphanumeric(s):\n",
    "    # Use the isalnum() method\n",
    "    return s.isalnum()\n",
    "string1 = \"Lalit123\"\n",
    "string2 = \"Mayur 123\"\n",
    "result1 = is_alphanumeric(string1)\n",
    "result2 = is_alphanumeric(string2)\n",
    "print(result1)  # True\n",
    "print(result2)  # False\n",
    "#The isalnum() method checks if the string contains only letters and digits without spaces or special characters."
   ]
  },
  {
   "cell_type": "code",
   "execution_count": 65,
   "metadata": {},
   "outputs": [
    {
     "name": "stdout",
     "output_type": "stream",
     "text": [
      "12345\n"
     ]
    }
   ],
   "source": [
    "#24. Extract all digits from a string\n",
    "def extract_digits(s):\n",
    "    # Use a list comprehension to filter digits\n",
    "    return ''.join([char for char in s if char.isdigit()])\n",
    "string = \"Python123 is fun45\"\n",
    "result = extract_digits(string)\n",
    "print(result)\n",
    "#isdigit() checks if a character is a digit.A list comprehension filters only digits from the string, which are then joined to form the final string."
   ]
  },
  {
   "cell_type": "code",
   "execution_count": 74,
   "metadata": {},
   "outputs": [
    {
     "name": "stdout",
     "output_type": "stream",
     "text": [
      "Pythonisfun\n"
     ]
    }
   ],
   "source": [
    "#25. Extract all alphabets from a string\n",
    "def extract_alphabets(s):\n",
    "    # Use a list comprehension to filter alphabets\n",
    "    return ''.join([char for char in s if char.isalpha()])\n",
    "string = \"Python123 is fun!\"\n",
    "result = extract_alphabets(string)\n",
    "print(result)\n",
    "#isalpha() checks if a character is an alphabetic letter.The filtered alphabets are joined together to form the result.\n"
   ]
  },
  {
   "cell_type": "code",
   "execution_count": 75,
   "metadata": {},
   "outputs": [
    {
     "name": "stdout",
     "output_type": "stream",
     "text": [
      "4\n"
     ]
    }
   ],
   "source": [
    "#26. Count the number of uppercase letters in a string\n",
    "def count_uppercase(s):\n",
    "    # Use a list comprehension to filter uppercase letters\n",
    "    return sum(1 for char in s if char.isupper())\n",
    "string = \"Python Programming Is Fun\"\n",
    "result = count_uppercase(string)\n",
    "print(result)\n",
    "#isupper() checks if a character is uppercase.The generator expression counts all uppercase letters in the string"
   ]
  },
  {
   "cell_type": "code",
   "execution_count": 76,
   "metadata": {},
   "outputs": [
    {
     "name": "stdout",
     "output_type": "stream",
     "text": [
      "18\n"
     ]
    }
   ],
   "source": [
    "#27. Count the number of lowercase letters in a string\n",
    "def count_lowercase(s):\n",
    "    # Use a list comprehension to filter lowercase letters\n",
    "    return sum(1 for char in s if char.islower())\n",
    "string = \"Python Programming Is Fun\"\n",
    "result = count_lowercase(string)\n",
    "print(result)\n",
    "# islower() checks if a character is lowercase.A generator expression counts all lowercase letters.\n"
   ]
  },
  {
   "cell_type": "code",
   "execution_count": 77,
   "metadata": {},
   "outputs": [
    {
     "name": "stdout",
     "output_type": "stream",
     "text": [
      "pYTHON pROGRAMMING iS fUN\n"
     ]
    }
   ],
   "source": [
    "#28. Swap the case of each character in a string\n",
    "def swap_case(s):\n",
    "    # Use the swapcase() method\n",
    "    return s.swapcase()\n",
    "string = \"Python Programming Is Fun\"\n",
    "result = swap_case(string)\n",
    "print(result)\n",
    "#The swapcase() method converts uppercase letters to lowercase and vice versa."
   ]
  },
  {
   "cell_type": "code",
   "execution_count": 79,
   "metadata": {},
   "outputs": [
    {
     "name": "stdout",
     "output_type": "stream",
     "text": [
      "Python  is fun\n"
     ]
    }
   ],
   "source": [
    "#29. Remove a specific word from a string\n",
    "def remove_word(s, word_remove):\n",
    "    # Replace the word with an empty string\n",
    "    return s.replace(word_remove, \"\")\n",
    "string = \"Python programming is fun\"\n",
    "word = \"programming\"\n",
    "result = remove_word(string, word).strip()\n",
    "print(result)\n",
    "# replace() is used to replace the target word with an empty string. strip() ensures that extra spaces are removed."
   ]
  },
  {
   "cell_type": "code",
   "execution_count": null,
   "metadata": {},
   "outputs": [
    {
     "name": "stdout",
     "output_type": "stream",
     "text": [
      "True\n",
      "False\n"
     ]
    }
   ],
   "source": [
    "#30. Check if a string is a valid email address\n",
    "import re\n",
    "\n",
    "def is_valid_email(email):\n",
    "    # Regular expression for a valid email\n",
    "    pattern = r'^[a-zA-Z0-9_.+-]+@[a-zA-Z0-9-]+\\.[a-zA-Z0-9-.]+$'\n",
    "    return bool(re.match(pattern, email))\n",
    "email1 = \"example@gmail.com\"\n",
    "email2 = \"invalid-email\"\n",
    "result1 = is_valid_email(email1)\n",
    "result2 = is_valid_email(email2)\n",
    "print(result1)  # True\n",
    "print(result2)  # False\n",
    "#A regular expression (regex) is used to define the pattern of a valid email address. re.match() checks if the string matches the pattern."
   ]
  },
  {
   "cell_type": "code",
   "execution_count": 81,
   "metadata": {},
   "outputs": [
    {
     "name": "stdout",
     "output_type": "stream",
     "text": [
      "example\n"
     ]
    }
   ],
   "source": [
    "#31. Extract the username from an email address\n",
    "def extract_username(email):\n",
    "    # Split the email at '@' and return the first part\n",
    "    return email.split(\"@\")[0]\n",
    "email = \"example@gmail.com\"\n",
    "result = extract_username(email)\n",
    "print(result)\n",
    "# split(\"@\") splits the email string into username and domain.\n",
    "# The first element ([0]) is the username."
   ]
  },
  {
   "cell_type": "code",
   "execution_count": null,
   "metadata": {},
   "outputs": [
    {
     "name": "stdout",
     "output_type": "stream",
     "text": [
      "gmail.com\n"
     ]
    }
   ],
   "source": [
    "#32. Extract the domain name from an email address\n",
    "def extract_domain(email):\n",
    "    # Split the email at '@' and return the second part\n",
    "    return email.split(\"@\")[1]\n",
    "email = \"example@gmail.com\"\n",
    "result = extract_domain(email)\n",
    "print(result)\n",
    "#split(\"@\") divides the email into username and domain.The second element ([1]) is the domain."
   ]
  },
  {
   "cell_type": "code",
   "execution_count": 1,
   "metadata": {},
   "outputs": [
    {
     "name": "stdout",
     "output_type": "stream",
     "text": [
      "Python programming is fun\n"
     ]
    }
   ],
   "source": [
    "#33. Replace multiple spaces in a string with a single space\n",
    "def replace_multiple_spaces(s):\n",
    "    # Replace multiple spaces using a regular expression\n",
    "    import re\n",
    "    return re.sub(r'\\s+', ' ', s)   \n",
    "string = \"Python     programming  is   fun\"\n",
    "result = replace_multiple_spaces(string)\n",
    "print(result)\n",
    "#re.sub() replaces patterns of consecutive whitespace (\\s+) with a single space."
   ]
  },
  {
   "cell_type": "code",
   "execution_count": 2,
   "metadata": {},
   "outputs": [
    {
     "name": "stdout",
     "output_type": "stream",
     "text": [
      "True\n",
      "False\n"
     ]
    }
   ],
   "source": [
    "#34. Check if a string is a valid URL\n",
    "import re\n",
    "\n",
    "def is_valid_url(url):\n",
    "    # Regular expression for a valid URL\n",
    "    pattern = r'^(http|https)://[a-zA-Z0-9_.+-]+\\.[a-zA-Z0-9-.]+$'\n",
    "    return bool(re.match(pattern, url))\n",
    "url1 = \"https://www.example.com\"\n",
    "url2 = \"invalid-url\"\n",
    "result1 = is_valid_url(url1)\n",
    "result2 = is_valid_url(url2)\n",
    "print(result1)  # True\n",
    "print(result2)  # False\n",
    "#A regex checks if the string starts with http:// or https:// and follows with a valid domain structure."
   ]
  },
  {
   "cell_type": "code",
   "execution_count": 3,
   "metadata": {},
   "outputs": [
    {
     "name": "stdout",
     "output_type": "stream",
     "text": [
      "https\n"
     ]
    }
   ],
   "source": [
    "#35. Extract the protocol (http or https) from a URL string\n",
    "def extract_protocol(url):\n",
    "    # Split the URL at ':' and return the first part\n",
    "    return url.split(\":\")[0]\n",
    "url = \"https://www.example.com\"\n",
    "result = extract_protocol(url)\n",
    "print(result)\n",
    "#The URL is split at the colon (:), and the first part is the protocol."
   ]
  },
  {
   "cell_type": "code",
   "execution_count": null,
   "metadata": {},
   "outputs": [
    {
     "name": "stdout",
     "output_type": "stream",
     "text": [
      "{'p': 1, 'r': 2, 'o': 1, 'g': 2, 'a': 1, 'm': 2, 'i': 1, 'n': 1}\n"
     ]
    }
   ],
   "source": [
    "#36. Find the frequency of each character in a string\n",
    "from collections import Counter\n",
    "\n",
    "def char_frequency(s):\n",
    "    # Use Counter to count characters\n",
    "    return dict(Counter(s))\n",
    "string = \"programming\"\n",
    "result = char_frequency(string)\n",
    "print(result)\n",
    "#Counter from the collections module counts the occurrences of each character in the string and returns it as a dictionary."
   ]
  },
  {
   "cell_type": "code",
   "execution_count": null,
   "metadata": {},
   "outputs": [
    {
     "name": "stdout",
     "output_type": "stream",
     "text": [
      "Hello World Hows it going\n"
     ]
    }
   ],
   "source": [
    "#37. Remove all punctuation from a string\n",
    "import string\n",
    "\n",
    "def remove_punctuation(s):\n",
    "    # Use translate to remove punctuation\n",
    "    return s.translate(str.maketrans('', '', string.punctuation))\n",
    "\n",
    "# Example\n",
    "strings = \"Hello, World! How's it going?\"\n",
    "result = remove_punctuation(strings)\n",
    "print(result)\n",
    "#string.punctuation contains all punctuation marks, str.maketrans() creates a translation table to remove those marks."
   ]
  },
  {
   "cell_type": "code",
   "execution_count": 8,
   "metadata": {},
   "outputs": [
    {
     "name": "stdout",
     "output_type": "stream",
     "text": [
      "True\n",
      "False\n"
     ]
    }
   ],
   "source": [
    "#38. Check if a string contains only digits\n",
    "def contains_only_digits(s):\n",
    "    # Use isdigit() method\n",
    "    return s.isdigit()\n",
    "string1 = \"123456\"\n",
    "string2 = \"123a456\"\n",
    "result1 = contains_only_digits(string1)\n",
    "result2 = contains_only_digits(string2)\n",
    "print(result1)  # True\n",
    "print(result2)  # False\n",
    "#isdigit() returns True if all characters in the string are digits."
   ]
  },
  {
   "cell_type": "code",
   "execution_count": 9,
   "metadata": {},
   "outputs": [
    {
     "name": "stdout",
     "output_type": "stream",
     "text": [
      "True\n",
      "False\n"
     ]
    }
   ],
   "source": [
    "#39. Check if a string contains only alphabets\n",
    "def contains_only_alphabets(s):\n",
    "    # Use isalpha() method\n",
    "    return s.isalpha()\n",
    "string1 = \"HelloWorld\"\n",
    "string2 = \"Hello123\"\n",
    "result1 = contains_only_alphabets(string1)\n",
    "result2 = contains_only_alphabets(string2)\n",
    "print(result1)  # True\n",
    "print(result2)  # False\n",
    "#isalpha() returns True if all characters are alphabets."
   ]
  },
  {
   "cell_type": "code",
   "execution_count": 10,
   "metadata": {},
   "outputs": [
    {
     "name": "stdout",
     "output_type": "stream",
     "text": [
      "['P', 'y', 't', 'h', 'o', 'n']\n"
     ]
    }
   ],
   "source": [
    "#40. Convert a string to a list of characters\n",
    "def string_to_char_list(s):\n",
    "    # Use list() to convert string to list\n",
    "    return list(s)\n",
    "string = \"Python\"\n",
    "result = string_to_char_list(string)\n",
    "print(result)\n",
    "#list() converts the string into a list where each character becomes an individual element."
   ]
  },
  {
   "cell_type": "code",
   "execution_count": null,
   "metadata": {},
   "outputs": [
    {
     "name": "stdout",
     "output_type": "stream",
     "text": [
      "True\n"
     ]
    }
   ],
   "source": [
    "#41. Check if two strings are anagrams\n",
    "def are_anagrams(s1, s2):\n",
    "    # Compare sorted versions of both strings\n",
    "    return sorted(s1) == sorted(s2)\n",
    "string1 = \"listen\"\n",
    "string2 = \"silent\"\n",
    "result = are_anagrams(string1, string2)\n",
    "print(result)\n",
    "#Sorting both strings and comparing their results checks if they are anagrams.\n"
   ]
  },
  {
   "cell_type": "code",
   "execution_count": 12,
   "metadata": {},
   "outputs": [
    {
     "name": "stdout",
     "output_type": "stream",
     "text": [
      "Khoor, Zruog!\n"
     ]
    }
   ],
   "source": [
    "#42. Encode a string using a Caesar cipher\n",
    "def caesar_cipher_encode(s, shift):\n",
    "    # Shift each character by the specified value\n",
    "    encoded = \"\"\n",
    "    for char in s:\n",
    "        if char.isalpha():\n",
    "            base = ord('A') if char.isupper() else ord('a')\n",
    "            encoded += chr((ord(char) - base + shift) % 26 + base)\n",
    "        else:\n",
    "            encoded += char\n",
    "    return encoded\n",
    "\n",
    "# Example\n",
    "string = \"Hello, World!\"\n",
    "result = caesar_cipher_encode(string, 3)\n",
    "print(result)\n",
    "#The cipher shifts each alphabetic character by the specified value, wrapping around after 'Z' or 'z'."
   ]
  },
  {
   "cell_type": "code",
   "execution_count": null,
   "metadata": {},
   "outputs": [
    {
     "name": "stdout",
     "output_type": "stream",
     "text": [
      "Hello, World!\n"
     ]
    }
   ],
   "source": [
    "#43. Decode a Caesar cipher encoded string\n",
    "def caesar_cipher_decode(s, shift):\n",
    "    # Reverse the encoding process\n",
    "    return caesar_cipher_encode(s, -shift)\n",
    "string = \"Khoor, Zruog!\"\n",
    "result = caesar_cipher_decode(string, 3)\n",
    "print(result)\n",
    "#Decoding is the reverse of encoding, using a negative shift value."
   ]
  },
  {
   "cell_type": "code",
   "execution_count": null,
   "metadata": {},
   "outputs": [
    {
     "name": "stdout",
     "output_type": "stream",
     "text": [
      "('apple', 3)\n"
     ]
    }
   ],
   "source": [
    "#44. Find the most frequent word in a string\n",
    "from collections import Counter\n",
    "\n",
    "def most_frequent_word(s):\n",
    "    words = s.split()\n",
    "    frequency = Counter(words)\n",
    "    return frequency.most_common(1)[0]  # Return the most common word and its count\n",
    "string = \"apple orange apple banana orange apple\"\n",
    "result = most_frequent_word(string)\n",
    "print(result)\n",
    "#Counter counts word occurrences, and most_common(1) finds the most frequent word."
   ]
  },
  {
   "cell_type": "code",
   "execution_count": 15,
   "metadata": {},
   "outputs": [
    {
     "name": "stdout",
     "output_type": "stream",
     "text": [
      "{'banana', 'apple', 'orange'}\n"
     ]
    }
   ],
   "source": [
    "#45. Find all unique words in a string\n",
    "def unique_words(s):\n",
    "    # Use a set to extract unique words\n",
    "    return set(s.split())\n",
    "string = \"apple orange apple banana orange apple\"\n",
    "result = unique_words(string)\n",
    "print(result)\n",
    "#Splitting the string into words and using a set ensures uniqueness."
   ]
  },
  {
   "cell_type": "code",
   "execution_count": 16,
   "metadata": {},
   "outputs": [
    {
     "name": "stdout",
     "output_type": "stream",
     "text": [
      "5\n"
     ]
    }
   ],
   "source": [
    "#46. Count the number of syllables in a string\n",
    "def count_syllables(s):\n",
    "    vowels = \"aeiouAEIOU\"\n",
    "    count = 0\n",
    "    for char in s:\n",
    "        if char in vowels:\n",
    "            count += 1\n",
    "    return count\n",
    "string = \"Programming is fun\"\n",
    "result = count_syllables(string)\n",
    "print(result)\n",
    "#The function iterates through the string and counts the vowels, which are a proxy for syllables in simple cases."
   ]
  },
  {
   "cell_type": "code",
   "execution_count": 17,
   "metadata": {},
   "outputs": [
    {
     "name": "stdout",
     "output_type": "stream",
     "text": [
      "True\n",
      "False\n"
     ]
    }
   ],
   "source": [
    "#47. Check if a string contains any special characters\n",
    "import string\n",
    "\n",
    "def contains_special_characters(s):\n",
    "    special_chars = string.punctuation\n",
    "    for char in s:\n",
    "        if char in special_chars:\n",
    "            return True\n",
    "    return False\n",
    "string1 = \"Hello@World!\"\n",
    "string2 = \"HelloWorld\"\n",
    "result1 = contains_special_characters(string1)\n",
    "result2 = contains_special_characters(string2)\n",
    "print(result1)  # True\n",
    "print(result2)  # False\n",
    "#The function checks each character against a list of special characters defined in string.punctuation.\n"
   ]
  },
  {
   "cell_type": "code",
   "execution_count": 18,
   "metadata": {},
   "outputs": [
    {
     "name": "stdout",
     "output_type": "stream",
     "text": [
      "Python is amazing programming language\n"
     ]
    }
   ],
   "source": [
    "#48. Remove the nth word from a string\n",
    "def remove_nth_word(s, n):\n",
    "    words = s.split()\n",
    "    if n - 1 < len(words):\n",
    "        words.pop(n - 1)\n",
    "    return \" \".join(words)\n",
    "string = \"Python is an amazing programming language\"\n",
    "result = remove_nth_word(string, 3)\n",
    "print(result)\n",
    "\n",
    "#The function splits the string into words, removes the nth word, and joins the remaining words back into a string.\n"
   ]
  },
  {
   "cell_type": "code",
   "execution_count": 19,
   "metadata": {},
   "outputs": [
    {
     "name": "stdout",
     "output_type": "stream",
     "text": [
      "Python is an amazing programming language\n"
     ]
    }
   ],
   "source": [
    "#49. Insert a word at the nth position in a string\n",
    "def insert_word_at_n(s, word, n):\n",
    "    words = s.split()\n",
    "    if n - 1 <= len(words):\n",
    "        words.insert(n - 1, word)\n",
    "    return \" \".join(words)\n",
    "string = \"Python is programming language\"\n",
    "result = insert_word_at_n(string, \"an amazing\", 3)\n",
    "print(result)\n",
    "#The function splits the string into words, inserts the word at the specified position, and rejoins the words.\n"
   ]
  },
  {
   "cell_type": "code",
   "execution_count": 20,
   "metadata": {},
   "outputs": [
    {
     "name": "stdout",
     "output_type": "stream",
     "text": [
      "[['Name', 'Age', 'Country'], ['Alice', '25', 'USA'], ['Bob', '30', 'UK']]\n"
     ]
    }
   ],
   "source": [
    "#50. Convert a CSV string to a list of lists\n",
    "def csv_to_list(csv_string):\n",
    "    rows = csv_string.split(\"\\n\")\n",
    "    return [row.split(\",\") for row in rows]\n",
    "csv_string = \"Name,Age,Country\\nAlice,25,USA\\nBob,30,UK\"\n",
    "result = csv_to_list(csv_string)\n",
    "print(result)\n",
    "#The string is split into rows by newline characters, and each row is split into columns by commas to create a nested list."
   ]
  },
  {
   "cell_type": "markdown",
   "metadata": {},
   "source": [
    "* List Based Practice Problem"
   ]
  },
  {
   "cell_type": "code",
   "execution_count": null,
   "metadata": {},
   "outputs": [
    {
     "name": "stdout",
     "output_type": "stream",
     "text": [
      "[1, 2, 3, 4, 5, 6, 7, 8, 9, 10]\n"
     ]
    }
   ],
   "source": [
    "#1. Create a list with integers from 1 to 10\n",
    "my_list = [i for i in range(1, 11)]\n",
    "print(my_list)\n",
    "#We use a list comprehension to create a list containing integers from 1 to 10 by iterating over the range(1, 11)."
   ]
  },
  {
   "cell_type": "code",
   "execution_count": 26,
   "metadata": {},
   "outputs": [
    {
     "name": "stdout",
     "output_type": "stream",
     "text": [
      "5\n"
     ]
    }
   ],
   "source": [
    "#2. Find the length of a list without using the len() function\n",
    "def list_length(lst):\n",
    "    count = 0\n",
    "    for _ in lst:\n",
    "        count += 1\n",
    "    return count\n",
    "my_list = [1, 2, 3, 4, 5]\n",
    "result = list_length(my_list)\n",
    "print(result)\n",
    "#The function iterates over the list and increments a counter for each element to calculate the length."
   ]
  },
  {
   "cell_type": "code",
   "execution_count": null,
   "metadata": {},
   "outputs": [],
   "source": [
    "#3. Append an element to the end of a list\n",
    "my_list = [1, 2, 3]\n",
    "my_list.append(4)\n",
    "print(my_list)\n",
    "#We use the append() method to add an element to the end of the list."
   ]
  },
  {
   "cell_type": "code",
   "execution_count": null,
   "metadata": {},
   "outputs": [
    {
     "name": "stdout",
     "output_type": "stream",
     "text": [
      "[1, 2, 3, 4]\n",
      "[1, 4, 2, 3]\n",
      "[1, 2, 4]\n",
      "[1, 2, 4]\n",
      "True\n",
      "2\n",
      "3\n",
      "[4, 3, 2, 1]\n",
      "[1, 2, 3, 4]\n",
      "[4, 3, 2, 1]\n",
      "[2, 4, 6, 8, 10, 12, 14, 16, 18, 20]\n",
      "[1, 3, 5, 7, 9, 11, 13, 15, 17, 19]\n",
      "10\n"
     ]
    }
   ],
   "source": [
    "#3. Append an element to the end of a list\n",
    "my_list = [1, 2, 3]\n",
    "my_list.append(4)\n",
    "print(my_list)\n",
    "# use the append() method to add an element to the end of the list."
   ]
  },
  {
   "cell_type": "code",
   "execution_count": null,
   "metadata": {},
   "outputs": [],
   "source": [
    "#4. Insert an element at a specific index in a list\n",
    "my_list = [1, 2, 3]\n",
    "my_list.insert(1, 4)  # Insert 4 at index 1\n",
    "print(my_list)\n",
    "#The insert() method inserts an element at the specified index, shifting elements to the right."
   ]
  },
  {
   "cell_type": "code",
   "execution_count": null,
   "metadata": {},
   "outputs": [],
   "source": [
    "#5. Remove an element from a list by its value\n",
    "my_list = [1, 2, 3, 4]\n",
    "my_list.remove(3)\n",
    "print(my_list)\n",
    "#The remove() method removes the first occurrence of a value in the list."
   ]
  },
  {
   "cell_type": "code",
   "execution_count": null,
   "metadata": {},
   "outputs": [],
   "source": [
    "#6. Remove an element from a list by its index\n",
    "my_list = [1, 2, 3, 4]\n",
    "my_list.pop(2)  # Removes the element at index 2\n",
    "print(my_list)\n",
    "#The pop() method removes and returns the element at the specified index.\n"
   ]
  },
  {
   "cell_type": "code",
   "execution_count": null,
   "metadata": {},
   "outputs": [],
   "source": [
    "#7. Check if an element exists in a list\n",
    "my_list = [1, 2, 3, 4]\n",
    "exists = 3 in my_list\n",
    "print(exists)\n",
    "#The in operator checks if an element is present in the list."
   ]
  },
  {
   "cell_type": "code",
   "execution_count": null,
   "metadata": {},
   "outputs": [],
   "source": [
    "#8. Find the index of the first occurrence of an element in a list\n",
    "my_list = [1, 2, 3, 4, 3]\n",
    "index = my_list.index(3)\n",
    "print(index)\n",
    "#The index() method returns the index of the first occurrence of the specified element."
   ]
  },
  {
   "cell_type": "code",
   "execution_count": null,
   "metadata": {},
   "outputs": [],
   "source": [
    "#9. Count the occurrences of an element in a list\n",
    "my_list = [1, 2, 3, 1, 1, 4]\n",
    "count = my_list.count(1)\n",
    "print(count)\n",
    "#The count() method returns the number of times an element appears in the list."
   ]
  },
  {
   "cell_type": "code",
   "execution_count": null,
   "metadata": {},
   "outputs": [],
   "source": [
    "#10. Reverse the order of elements in a list\n",
    "my_list = [1, 2, 3, 4]\n",
    "my_list.reverse()\n",
    "print(my_list)\n",
    "#The reverse() method reverses the order of elements in the list."
   ]
  },
  {
   "cell_type": "code",
   "execution_count": null,
   "metadata": {},
   "outputs": [],
   "source": [
    "#11. Sort a list in ascending order\n",
    "my_list = [4, 2, 3, 1]\n",
    "my_list.sort()\n",
    "print(my_list)\n",
    "#The sort() method sorts the list in ascending order by default."
   ]
  },
  {
   "cell_type": "code",
   "execution_count": null,
   "metadata": {},
   "outputs": [],
   "source": [
    "#12. Sort a list in descending order\n",
    "my_list = [4, 2, 3, 1]\n",
    "my_list.sort(reverse=True)\n",
    "print(my_list)\n",
    "#The sort() method can take the reverse=True argument to sort the list in descending order."
   ]
  },
  {
   "cell_type": "code",
   "execution_count": null,
   "metadata": {},
   "outputs": [],
   "source": [
    "#13. Create a list of even numbers from 1 to 20\n",
    "even_numbers = [i for i in range(1, 21) if i % 2 == 0]\n",
    "print(even_numbers)\n",
    "#A list comprehension is used to filter even numbers in the specified range.\n"
   ]
  },
  {
   "cell_type": "code",
   "execution_count": null,
   "metadata": {},
   "outputs": [],
   "source": [
    "#14. Create a list of odd numbers from 1 to 20\n",
    "odd_numbers = [i for i in range(1, 21) if i % 2 != 0]\n",
    "print(odd_numbers)\n",
    "#A list comprehension is used to filter odd numbers in the specified range.\n"
   ]
  },
  {
   "cell_type": "code",
   "execution_count": null,
   "metadata": {},
   "outputs": [],
   "source": [
    "#15. Find the sum of all elements in a list\n",
    "my_list = [1, 2, 3, 4]\n",
    "total = sum(my_list)\n",
    "print(total)\n",
    "#The built-in sum() function calculates the total sum of all elements in the list."
   ]
  },
  {
   "cell_type": "code",
   "execution_count": null,
   "metadata": {},
   "outputs": [],
   "source": [
    "#16. Find the maximum value in a list\n",
    "my_list = [1, 2, 3, 4]\n",
    "max_value = max(my_list)\n",
    "print(max_value)\n",
    "#The built-in max() function returns the largest element in the list.\n"
   ]
  },
  {
   "cell_type": "code",
   "execution_count": null,
   "metadata": {},
   "outputs": [],
   "source": [
    "#17. Find the minimum value in a list\n",
    "my_list = [1, 2, 3, 4]\n",
    "min_value = min(my_list)\n",
    "print(min_value)\n",
    "#The built-in min() function returns the smallest element in the list.\n",
    "\n"
   ]
  },
  {
   "cell_type": "code",
   "execution_count": 28,
   "metadata": {},
   "outputs": [
    {
     "name": "stdout",
     "output_type": "stream",
     "text": [
      "[1, 4, 9, 16, 25, 36, 49, 64, 81, 100]\n"
     ]
    }
   ],
   "source": [
    "#18. Create a list of squares of numbers from 1 to 10\n",
    "squares = [i ** 2 for i in range(1, 11)]\n",
    "print(squares)\n",
    "#A list comprehension is used to square each number in the range 1 to 10."
   ]
  },
  {
   "cell_type": "code",
   "execution_count": null,
   "metadata": {},
   "outputs": [],
   "source": [
    "#19. Create a list of random numbers\n",
    "import random\n",
    "random_numbers = [random.randint(1, 100) for _ in range(10)]\n",
    "print(random_numbers)\n",
    "#The random.randint() function generates a random integer, and we use list comprehension to create a list of random numbers."
   ]
  },
  {
   "cell_type": "code",
   "execution_count": null,
   "metadata": {},
   "outputs": [],
   "source": [
    "#20. Remove duplicates from a list\n",
    "my_list = [1, 2, 2, 3, 4, 4, 5]\n",
    "unique_list = list(set(my_list))\n",
    "print(unique_list)\n",
    "#Converting the list to a set removes duplicates, and then we convert it back to a list."
   ]
  },
  {
   "cell_type": "code",
   "execution_count": null,
   "metadata": {},
   "outputs": [],
   "source": [
    "#21. Find the common elements between two lists\n",
    "list1 = [1, 2, 3, 4]\n",
    "list2 = [3, 4, 5, 6]\n",
    "common_elements = list(set(list1) & set(list2))\n",
    "print(common_elements)\n",
    "#We use the intersection operator (&) to find the common elements between the two sets."
   ]
  },
  {
   "cell_type": "code",
   "execution_count": null,
   "metadata": {},
   "outputs": [],
   "source": [
    "#22. Find the difference between two lists\n",
    "list1 = [1, 2, 3, 4]\n",
    "list2 = [3, 4, 5, 6]\n",
    "difference = list(set(list1) - set(list2))\n",
    "print(difference)\n",
    "#The difference operator (-) returns elements in list1 that are not in list2.\n",
    "\n",
    "\n",
    "\n"
   ]
  },
  {
   "cell_type": "code",
   "execution_count": null,
   "metadata": {},
   "outputs": [],
   "source": [
    "#23. Merge two lists\n",
    "list1 = [1, 2, 3]\n",
    "list2 = [4, 5, 6]\n",
    "merged_list = list1 + list2\n",
    "print(merged_list)\n",
    "#We use the + operator to concatenate two lists.\n"
   ]
  },
  {
   "cell_type": "code",
   "execution_count": null,
   "metadata": {},
   "outputs": [],
   "source": [
    "#24. Multiply all elements in a list by 2\n",
    "my_list = [1, 2, 3, 4]\n",
    "doubled_list = [x * 2 for x in my_list]\n",
    "print(doubled_list)\n",
    "#We use a list comprehension to multiply each element in the list by 2."
   ]
  },
  {
   "cell_type": "code",
   "execution_count": null,
   "metadata": {},
   "outputs": [],
   "source": [
    "#25. Filter out all even numbers from a list\n",
    "my_list = [1, 2, 3, 4, 5, 6]\n",
    "odd_numbers = [x for x in my_list if x % 2 != 0]\n",
    "print(odd_numbers)\n",
    "#A list comprehension is used to include only odd numbers by checking if each number is not divisible by 2.\n"
   ]
  },
  {
   "cell_type": "code",
   "execution_count": null,
   "metadata": {},
   "outputs": [],
   "source": [
    "#26. Convert a list of strings to a list of integers\n",
    "string_list = ['1', '2', '3', '4']\n",
    "integer_list = [int(x) for x in string_list]\n",
    "print(integer_list)\n",
    "#A list comprehension is used to convert each string in the list to an integer."
   ]
  },
  {
   "cell_type": "code",
   "execution_count": null,
   "metadata": {},
   "outputs": [],
   "source": [
    "#27. Convert a list of integers to a list of strings\n",
    "integer_list = [1, 2, 3, 4]\n",
    "string_list = [str(x) for x in integer_list]\n",
    "print(string_list)\n",
    "#A list comprehension is used to convert each integer to a string.\n",
    "\n"
   ]
  },
  {
   "cell_type": "code",
   "execution_count": null,
   "metadata": {},
   "outputs": [],
   "source": [
    "#28. Flatten a nested list\n",
    "nested_list = [[1, 2], [3, 4], [5, 6]]\n",
    "flattened_list = [item for sublist in nested_list for item in sublist]\n",
    "print(flattened_list)\n",
    "#A list comprehension with nested loops is used to flatten the nested list."
   ]
  },
  {
   "cell_type": "code",
   "execution_count": null,
   "metadata": {},
   "outputs": [],
   "source": [
    "#29. Create a list of the first 10 Fibonacci numbers\n",
    "fib = [0, 1]\n",
    "for i in range(2, 10):\n",
    "    fib.append(fib[i - 1] + fib[i - 2])\n",
    "print(fib)\n",
    "#A loop generates Fibonacci numbers by adding the two previous numbers in the list."
   ]
  },
  {
   "cell_type": "code",
   "execution_count": null,
   "metadata": {},
   "outputs": [],
   "source": [
    "#30. Check if a list is sorted\n",
    "my_list = [1, 2, 3, 4]\n",
    "is_sorted = all(my_list[i] <= my_list[i + 1] for i in range(len(my_list) - 1))\n",
    "print(is_sorted)\n",
    "#The all() function checks if each element is less than or equal to the next one in the list."
   ]
  },
  {
   "cell_type": "code",
   "execution_count": null,
   "metadata": {},
   "outputs": [
    {
     "name": "stdout",
     "output_type": "stream",
     "text": [
      "[3, 4, 5, 1, 2]\n",
      "[[1, 2, 3], [4, 5, 6], [7, 8, 9]]\n",
      "4\n",
      "[1, 4, 9, 16]\n",
      "{'a': 0, 'b': 1, 'c': 2, 'd': 3}\n",
      "[5, 3, 1, 4, 2]\n",
      "[1, 2, 6, 24, 120, 720, 5040, 40320, 362880, 3628800]\n",
      "True\n",
      "[]\n",
      "[0, 2, 0, 4]\n",
      "['Hello', 'world', 'how', 'are', 'you']\n",
      "Hello world how are you\n",
      "[1, 2, 4, 8, 16]\n"
     ]
    }
   ],
   "source": [
    "#31. Rotate a list to the left by n positions\n",
    "my_list = [1, 2, 3, 4, 5]\n",
    "n = 2\n",
    "rotated_list = my_list[n:] + my_list[:n]\n",
    "print(rotated_list)\n",
    "#We use list slicing to split the list into two parts: the first n elements and the remaining elements. Then we concatenate them in reverse order to achieve the left rotation.\n",
    "\n",
    "\n",
    "\n"
   ]
  },
  {
   "cell_type": "code",
   "execution_count": null,
   "metadata": {},
   "outputs": [],
   "source": [
    "#32. Rotate a list to the right by n positions\n",
    "my_list = [1, 2, 3, 4, 5]\n",
    "n = 2\n",
    "rotated_list = my_list[-n:] + my_list[:-n]\n",
    "print(rotated_list)\n",
    "#Similar to left rotation, but here we take the last n elements and move them to the front.\n"
   ]
  },
  {
   "cell_type": "code",
   "execution_count": null,
   "metadata": {},
   "outputs": [],
   "source": [
    "#33. Create a list of prime numbers up to 50\n",
    "def is_prime(num):\n",
    "    if num < 2:\n",
    "        return False\n",
    "    for i in range(2, int(num ** 0.5) + 1):\n",
    "        if num % i == 0:\n",
    "            return False\n",
    "    return True\n",
    "\n",
    "primes = [x for x in range(1, 51) if is_prime(x)]\n",
    "print(primes)\n",
    "#We define a helper function is_prime() to check whether a number is prime. Then, using list comprehension, we collect all primes from 1 to 50."
   ]
  },
  {
   "cell_type": "code",
   "execution_count": null,
   "metadata": {},
   "outputs": [],
   "source": [
    "#34. Split a list into chunks of size n\n",
    "def chunk_list(lst, n):\n",
    "    return [lst[i:i + n] for i in range(0, len(lst), n)]\n",
    "\n",
    "my_list = [1, 2, 3, 4, 5, 6, 7, 8, 9]\n",
    "chunks = chunk_list(my_list, 3)\n",
    "print(chunks)\n",
    "#A helper function splits the list into sublists of size n using list slicing.\n"
   ]
  },
  {
   "cell_type": "code",
   "execution_count": null,
   "metadata": {},
   "outputs": [],
   "source": [
    "#35. Find the second largest number in a list\n",
    "my_list = [1, 2, 3, 4, 5]\n",
    "my_list.sort()\n",
    "second_largest = my_list[-2]\n",
    "print(second_largest)\n",
    "#We sort the list in ascending order and access the second-to-last element.\n"
   ]
  },
  {
   "cell_type": "code",
   "execution_count": null,
   "metadata": {},
   "outputs": [],
   "source": [
    "#36. Replace every element in a list with its square\n",
    "my_list = [1, 2, 3, 4]\n",
    "squared_list = [x ** 2 for x in my_list]\n",
    "print(squared_list)\n",
    "#A list comprehension is used to square each element in the list.\n"
   ]
  },
  {
   "cell_type": "code",
   "execution_count": null,
   "metadata": {},
   "outputs": [],
   "source": [
    "#37. Convert a list to a dictionary where list elements become keys and their indices become values\n",
    "my_list = ['a', 'b', 'c', 'd']\n",
    "dict_from_list = {my_list[i]: i for i in range(len(my_list))}\n",
    "print(dict_from_list)\n",
    "#A dictionary comprehension creates a dictionary where list elements are keys and their indices are values."
   ]
  },
  {
   "cell_type": "code",
   "execution_count": null,
   "metadata": {},
   "outputs": [],
   "source": [
    "#38. Shuffle the elements of a list randomly\n",
    "import random\n",
    "my_list = [1, 2, 3, 4, 5]\n",
    "random.shuffle(my_list)\n",
    "print(my_list)\n",
    "#The random.shuffle() function randomly reorders the elements of the list in place.\n"
   ]
  },
  {
   "cell_type": "code",
   "execution_count": null,
   "metadata": {},
   "outputs": [],
   "source": [
    "#39. Create a list of the first 10 factorial numbers\n",
    "import math\n",
    "factorials = [math.factorial(i) for i in range(1, 11)]\n",
    "print(factorials)\n",
    "#The math.factorial() function is used to compute the factorial of each number in the range 1 to 10.\n"
   ]
  },
  {
   "cell_type": "code",
   "execution_count": null,
   "metadata": {},
   "outputs": [],
   "source": [
    "#40. Check if two lists have at least one element in common\n",
    "list1 = [1, 2, 3]\n",
    "list2 = [3, 4, 5]\n",
    "has_common = bool(set(list1) & set(list2))\n",
    "print(has_common)\n",
    "#We use set intersection (&) to check if there are any common elements between the two lists.\n"
   ]
  },
  {
   "cell_type": "code",
   "execution_count": null,
   "metadata": {},
   "outputs": [],
   "source": [
    "#41. Remove all elements from a list\n",
    "my_list = [1, 2, 3, 4]\n",
    "my_list.clear()\n",
    "print(my_list)\n",
    "#The clear() method removes all elements from the list.\n"
   ]
  },
  {
   "cell_type": "code",
   "execution_count": null,
   "metadata": {},
   "outputs": [],
   "source": [
    "#42. Replace negative numbers in a list with 0\n",
    "my_list = [-1, 2, -3, 4]\n",
    "updated_list = [0 if x < 0 else x for x in my_list]\n",
    "print(updated_list)\n",
    "#A list comprehension replaces each negative number with 0."
   ]
  },
  {
   "cell_type": "code",
   "execution_count": null,
   "metadata": {},
   "outputs": [],
   "source": [
    "#43. Convert a string into a list of words\n",
    "my_string = \"Hello world how are you\"\n",
    "words = my_string.split()\n",
    "print(words)\n",
    "#The split() method splits the string into words, using whitespace by default as the separator.\n",
    "\n"
   ]
  },
  {
   "cell_type": "code",
   "execution_count": 30,
   "metadata": {},
   "outputs": [
    {
     "name": "stdout",
     "output_type": "stream",
     "text": [
      "Hello world how are you\n"
     ]
    }
   ],
   "source": [
    "#44. Convert a list of words into a string\n",
    "word_list = ['Hello', 'world', 'how', 'are', 'you']\n",
    "my_string = ' '.join(word_list)\n",
    "print(my_string)\n",
    "#The join() method joins the elements of the list into a single string with spaces separating each word.\n"
   ]
  },
  {
   "cell_type": "code",
   "execution_count": 31,
   "metadata": {},
   "outputs": [
    {
     "name": "stdout",
     "output_type": "stream",
     "text": [
      "[1, 2, 4, 8, 16]\n"
     ]
    }
   ],
   "source": [
    "#45. Create a list of the first n powers of 2\n",
    "n = 5\n",
    "powers_of_2 = [2 ** i for i in range(n)]\n",
    "print(powers_of_2)\n",
    "#A list comprehension is used to calculate the powers of 2 from 2^0 to 2^(n-1)."
   ]
  },
  {
   "cell_type": "code",
   "execution_count": null,
   "metadata": {},
   "outputs": [],
   "source": [
    "#46. Find the longest string in a list of strings\n",
    "my_list = [\"apple\", \"banana\", \"cherry\", \"kiwi\"]\n",
    "longest_string = max(my_list, key=len)\n",
    "print(longest_string)\n",
    "#The max() function is used with the key=len argument to find the string with the maximum length in the list.\n"
   ]
  },
  {
   "cell_type": "code",
   "execution_count": null,
   "metadata": {},
   "outputs": [],
   "source": [
    "#47. Find the shortest string in a list of strings\n",
    "my_list = [\"apple\", \"banana\", \"cherry\", \"kiwi\"]\n",
    "shortest_string = min(my_list, key=len)\n",
    "print(shortest_string)\n",
    "#The min() function is used with the key=len argument to find the string with the minimum length in the list.\n",
    "\n"
   ]
  },
  {
   "cell_type": "code",
   "execution_count": 33,
   "metadata": {},
   "outputs": [
    {
     "name": "stdout",
     "output_type": "stream",
     "text": [
      "[1, 3, 6, 10, 15]\n"
     ]
    }
   ],
   "source": [
    "#48. Create a list of the first n triangular numbers\n",
    "n = 5\n",
    "triangular_numbers = [sum(range(1, i + 1)) for i in range(1, n + 1)]\n",
    "print(triangular_numbers)\n",
    "#Triangular numbers are the sum of the first n integers. The formula for the nth triangular number is n * (n + 1) / 2, but we can also use a loop to generate the sum.\n"
   ]
  },
  {
   "cell_type": "code",
   "execution_count": 32,
   "metadata": {},
   "outputs": [
    {
     "name": "stdout",
     "output_type": "stream",
     "text": [
      "True\n"
     ]
    }
   ],
   "source": [
    "#49. Check if a list contains another list as a subsequence\n",
    "def is_subsequence(main_list, sub_list):\n",
    "    it = iter(main_list)\n",
    "    return all(item in it for item in sub_list)\n",
    "\n",
    "main_list = [1, 2, 3, 4, 5]\n",
    "sub_list = [2, 4]\n",
    "print(is_subsequence(main_list, sub_list))\n",
    "#This function checks if all elements of the sub_list appear in order in the main_list. We use an iterator over the main_list to ensure that the elements of sub_list appear in sequence."
   ]
  },
  {
   "cell_type": "code",
   "execution_count": null,
   "metadata": {},
   "outputs": [],
   "source": [
    "#50. Swap two elements in a list by their indices\n",
    "my_list = [1, 2, 3, 4, 5]\n",
    "index1, index2 = 1, 3\n",
    "my_list[index1], my_list[index2] = my_list[index2], my_list[index1]\n",
    "print(my_list)\n",
    "#The elements at indices index1 and index2 are swapped using Python's multiple assignment feature.\n",
    "\n",
    "\n"
   ]
  },
  {
   "cell_type": "markdown",
   "metadata": {},
   "source": [
    "* Tuple Based Practice Question\n"
   ]
  },
  {
   "cell_type": "code",
   "execution_count": null,
   "metadata": {},
   "outputs": [],
   "source": [
    "\n",
    "#1. Create a tuple with integers from 1 to 5\n",
    "my_tuple = (1, 2, 3, 4, 5)\n",
    "print(my_tuple)\n",
    "#A tuple is created directly by specifying the values inside parentheses.\n"
   ]
  },
  {
   "cell_type": "code",
   "execution_count": null,
   "metadata": {},
   "outputs": [],
   "source": [
    "#2. Access the third element of a tuple\n",
    "my_tuple = (1, 2, 3, 4, 5)\n",
    "third_element = my_tuple[2]\n",
    "print(third_element)\n",
    "#Tuples are indexed like lists, and the third element is accessed using index 2.\n",
    "\n"
   ]
  },
  {
   "cell_type": "code",
   "execution_count": null,
   "metadata": {},
   "outputs": [],
   "source": [
    "#3. Find the length of a tuple without using the len() function\n",
    "my_tuple = (1, 2, 3, 4, 5)\n",
    "length = sum(1 for _ in my_tuple)\n",
    "print(length)\n",
    "#We use a generator expression to iterate through the tuple and count the number of elements.\n"
   ]
  },
  {
   "cell_type": "code",
   "execution_count": null,
   "metadata": {},
   "outputs": [],
   "source": [
    "#4. Count the occurrences of an element in a tuple\n",
    "my_tuple = (1, 2, 2, 3, 4, 2)\n",
    "count = my_tuple.count(2)\n",
    "print(count)\n",
    "#The count() method returns the number of occurrences of the specified element in the tuple.\n"
   ]
  },
  {
   "cell_type": "code",
   "execution_count": null,
   "metadata": {},
   "outputs": [],
   "source": [
    "#5. Find the index of the first occurrence of an element in a tuple\n",
    "my_tuple = (1, 2, 3, 4, 5)\n",
    "index = my_tuple.index(3)\n",
    "print(index)\n",
    "#The index() method returns the index of the first occurrence of the specified element in the tuple."
   ]
  },
  {
   "cell_type": "code",
   "execution_count": null,
   "metadata": {},
   "outputs": [],
   "source": [
    "#6. Check if an element exists in a tuple\n",
    "my_tuple = (1, 2, 3, 4, 5)\n",
    "exists = 3 in my_tuple\n",
    "print(exists)\n",
    "#The in operator is used to check if an element exists in a tuple.\n"
   ]
  },
  {
   "cell_type": "code",
   "execution_count": null,
   "metadata": {},
   "outputs": [],
   "source": [
    "#7. Convert a tuple to a list\n",
    "my_tuple = (1, 2, 3, 4, 5)\n",
    "my_list = list(my_tuple)\n",
    "print(my_list)\n",
    "#The list() function converts the tuple into a list.\n",
    "\n",
    "\n"
   ]
  },
  {
   "cell_type": "code",
   "execution_count": null,
   "metadata": {},
   "outputs": [],
   "source": [
    "#8. Convert a list to a tuple\n",
    "my_list = [1, 2, 3, 4, 5]\n",
    "my_tuple = tuple(my_list)\n",
    "print(my_tuple)\n",
    "#The tuple() function converts the list into a tuple."
   ]
  },
  {
   "cell_type": "code",
   "execution_count": null,
   "metadata": {},
   "outputs": [],
   "source": [
    "#9. Unpack the elements of a tuple into variables\n",
    "my_tuple = (1, 2, 3)\n",
    "a, b, c = my_tuple\n",
    "print(a, b, c)\n",
    "#Tuple unpacking assigns the elements of the tuple to variables a, b, and c."
   ]
  },
  {
   "cell_type": "code",
   "execution_count": null,
   "metadata": {},
   "outputs": [],
   "source": [
    "#10. Create a tuple of even numbers from 1 to 10\n",
    "my_tuple = tuple(x for x in range(1, 11) if x % 2 == 0)\n",
    "print(my_tuple)\n",
    "#We use a generator expression to create a tuple of even numbers in the range from 1 to 10."
   ]
  },
  {
   "cell_type": "code",
   "execution_count": null,
   "metadata": {},
   "outputs": [],
   "source": [
    "#11. Create a tuple of odd numbers from 1 to 10\n",
    "my_tuple = tuple(x for x in range(1, 11) if x % 2 != 0)\n",
    "print(my_tuple)\n",
    "Output:\n",
    "#We use a generator expression to create a tuple of odd numbers from 1 to 10.\n"
   ]
  },
  {
   "cell_type": "code",
   "execution_count": null,
   "metadata": {},
   "outputs": [],
   "source": [
    "#12. Concatenate two tuples\n",
    "tuple1 = (1, 2, 3)\n",
    "tuple2 = (4, 5, 6)\n",
    "concatenated_tuple = tuple1 + tuple2\n",
    "print(concatenated_tuple)\n",
    "#The + operator is used to concatenate two tuples.\n"
   ]
  },
  {
   "cell_type": "code",
   "execution_count": null,
   "metadata": {},
   "outputs": [],
   "source": [
    "\n",
    "#13. Repeat a tuple three times\n",
    "my_tuple = (1, 2, 3)\n",
    "repeated_tuple = my_tuple * 3\n",
    "print(repeated_tuple)\n",
    "#The * operator is used to repeat the tuple a specified number of times.\n"
   ]
  },
  {
   "cell_type": "code",
   "execution_count": null,
   "metadata": {},
   "outputs": [],
   "source": [
    "#14. Check if a tuple is empty\n",
    "my_tuple = ()\n",
    "is_empty = len(my_tuple) == 0\n",
    "print(is_empty)\n",
    "#A tuple is considered empty if its length is 0, which is checked using len().\n"
   ]
  },
  {
   "cell_type": "code",
   "execution_count": null,
   "metadata": {},
   "outputs": [],
   "source": [
    "#15. Create a nested tuple\n",
    "nested_tuple = (1, (2, 3), (4, 5))\n",
    "print(nested_tuple)\n",
    "#A tuple can contain other tuples, forming a nested structure.\n"
   ]
  },
  {
   "cell_type": "code",
   "execution_count": null,
   "metadata": {},
   "outputs": [],
   "source": [
    "#16. Access the first element of a nested tuple\n",
    "nested_tuple = (1, (2, 3), (4, 5))\n",
    "first_element = nested_tuple[1][0]\n",
    "print(first_element)\n",
    "#To access an element inside a nested tuple, you first index the outer tuple and then the inner tuple.\n"
   ]
  },
  {
   "cell_type": "code",
   "execution_count": null,
   "metadata": {},
   "outputs": [],
   "source": [
    "#17. Create a tuple with a single element\n",
    "single_element_tuple = (5,)\n",
    "print(single_element_tuple)\n",
    "#A tuple with one element requires a trailing comma , to distinguish it from a regular parentheses expression.\n"
   ]
  },
  {
   "cell_type": "code",
   "execution_count": null,
   "metadata": {},
   "outputs": [],
   "source": [
    "#18. Compare two tuples\n",
    "tuple1 = (1, 2, 3)\n",
    "tuple2 = (1, 2, 3)\n",
    "are_equal = tuple1 == tuple2\n",
    "print(are_equal)\n",
    "#Tuples are compared element by element, and the result is True if all elements are the same."
   ]
  },
  {
   "cell_type": "code",
   "execution_count": null,
   "metadata": {},
   "outputs": [],
   "source": [
    "\n",
    "#19. Delete a tuple\n",
    "my_tuple = (1, 2, 3)\n",
    "del my_tuple\n",
    "# print(my_tuple)  # Uncommenting this will result in an error because the tuple is deleted.\n",
    "#The del statement is used to delete the tuple.\n"
   ]
  },
  {
   "cell_type": "code",
   "execution_count": null,
   "metadata": {},
   "outputs": [],
   "source": [
    "#20. Slice a tuple\n",
    "my_tuple = (1, 2, 3, 4, 5)\n",
    "sliced_tuple = my_tuple[1:4]\n",
    "print(sliced_tuple)\n",
    "#Tuples support slicing, where my_tuple[start:end] extracts a portion of the tuple from start to end-1.\n"
   ]
  },
  {
   "cell_type": "code",
   "execution_count": null,
   "metadata": {},
   "outputs": [],
   "source": [
    "#21. Find the maximum value in a tuple\n",
    "my_tuple = (1, 2, 3, 4, 5)\n",
    "max_value = max(my_tuple)\n",
    "print(max_value)\n",
    "#The max() function returns the maximum value from the tuple.\n"
   ]
  },
  {
   "cell_type": "code",
   "execution_count": null,
   "metadata": {},
   "outputs": [],
   "source": [
    "#22. Find the minimum value in a tuple\n",
    "my_tuple = (1, 2, 3, 4, 5)\n",
    "min_value = min(my_tuple)\n",
    "print(min_value)\n",
    "#The min() function returns the minimum value from the tuple."
   ]
  },
  {
   "cell_type": "code",
   "execution_count": null,
   "metadata": {},
   "outputs": [],
   "source": [
    "\n",
    "#23. Convert a string to a tuple of characters\n",
    "my_string = \"hello\"\n",
    "my_tuple = tuple(my_string)\n",
    "print(my_tuple)\n",
    "#The tuple() function converts the string into a tuple, with each character as an individual element.\n"
   ]
  },
  {
   "cell_type": "code",
   "execution_count": null,
   "metadata": {},
   "outputs": [],
   "source": [
    "#24. Convert a tuple of characters to a string\n",
    "my_tuple = ('h', 'e', 'l', 'l', 'o')\n",
    "my_string = ''.join(my_tuple)\n",
    "print(my_string)\n",
    "#The join() method is used to combine the characters from the tuple into a single string.\n"
   ]
  },
  {
   "cell_type": "code",
   "execution_count": null,
   "metadata": {},
   "outputs": [],
   "source": [
    "#25. Create a tuple from multiple data types\n",
    "my_tuple = (1, \"hello\", 3.14, True)\n",
    "print(my_tuple)\n",
    "#Tuples can hold elements of different data types, such as integers, strings, floats, and booleans.\n"
   ]
  },
  {
   "cell_type": "code",
   "execution_count": null,
   "metadata": {},
   "outputs": [],
   "source": [
    "#26. Check if two tuples are identical\n",
    "tuple1 = (1, 2, 3)\n",
    "tuple2 = (1, 2, 3)\n",
    "are_identical = tuple1 == tuple2\n",
    "print(are_identical)\n",
    "#Tuples are considered identical if they have the same elements in the same order.\n"
   ]
  },
  {
   "cell_type": "code",
   "execution_count": null,
   "metadata": {},
   "outputs": [],
   "source": [
    "#27. Sort the elements of a tuple\n",
    "my_tuple = (5, 3, 8, 1, 2)\n",
    "sorted_tuple = tuple(sorted(my_tuple))\n",
    "print(sorted_tuple)\n",
    "#The sorted() function returns a list with sorted elements, and tuple() is used to convert it back to a tuple."
   ]
  },
  {
   "cell_type": "code",
   "execution_count": null,
   "metadata": {},
   "outputs": [],
   "source": [
    "\n",
    "#28. Convert a tuple of integers to a tuple of strings\n",
    "my_tuple = (1, 2, 3, 4, 5)\n",
    "string_tuple = tuple(str(x) for x in my_tuple)\n",
    "print(string_tuple)\n",
    "#A generator expression is used to convert each integer to a string before creating a new tuple.\n"
   ]
  },
  {
   "cell_type": "code",
   "execution_count": null,
   "metadata": {},
   "outputs": [],
   "source": [
    "#29. Convert a tuple of strings to a tuple of integers\n",
    "my_tuple = ('1', '2', '3', '4', '5')\n",
    "int_tuple = tuple(int(x) for x in my_tuple)\n",
    "print(int_tuple)\n",
    "#A generator expression is used to convert each string to an integer before creating a new tuple.\n"
   ]
  },
  {
   "cell_type": "code",
   "execution_count": null,
   "metadata": {},
   "outputs": [],
   "source": [
    "#30. Merge two tuples\n",
    "tuple1 = (1, 2, 3)\n",
    "tuple2 = (4, 5, 6)\n",
    "merged_tuple = tuple1 + tuple2\n",
    "print(merged_tuple)\n",
    "#The + operator is used to concatenate two tuples.\n"
   ]
  },
  {
   "cell_type": "code",
   "execution_count": null,
   "metadata": {},
   "outputs": [],
   "source": [
    "#31. Flatten a nested tuple\n",
    "nested_tuple = (1, (2, 3), (4, 5))\n",
    "flattened_tuple = tuple(item for subtuple in nested_tuple for item in (subtuple if isinstance(subtuple, tuple) else (subtuple,)))\n",
    "print(flattened_tuple)\n",
    "#A generator expression is used to flatten the nested tuple by iterating through each sub-tuple and extracting its elements.\n"
   ]
  },
  {
   "cell_type": "code",
   "execution_count": null,
   "metadata": {},
   "outputs": [],
   "source": [
    "#32. Create a tuple of the first 5 prime numbers\n",
    "primes = [2, 3, 5, 7, 11]\n",
    "prime_tuple = tuple(primes)\n",
    "print(prime_tuple)\n",
    "#A tuple is created directly from a list of the first 5 prime numbers.\n",
    "\n",
    "\n"
   ]
  },
  {
   "cell_type": "code",
   "execution_count": null,
   "metadata": {},
   "outputs": [],
   "source": [
    "#33. Check if a tuple is a palindrome\n",
    "my_tuple = (1, 2, 3, 2, 1)\n",
    "is_palindrome = my_tuple == my_tuple[::-1]\n",
    "print(is_palindrome)\n",
    "#A tuple is checked for being a palindrome by comparing it with its reverse (using slicing [::-1])."
   ]
  },
  {
   "cell_type": "code",
   "execution_count": null,
   "metadata": {},
   "outputs": [],
   "source": [
    "#34. Create a tuple of squares of numbers from 1 to 5\n",
    "squares_tuple = tuple(x**2 for x in range(1, 6))\n",
    "print(squares_tuple)\n",
    "#A generator expression is used to create a tuple containing the squares of numbers from 1 to 5.\n"
   ]
  },
  {
   "cell_type": "code",
   "execution_count": null,
   "metadata": {},
   "outputs": [],
   "source": [
    "#35. Filter out all even numbers from a tuple\n",
    "my_tuple = (1, 2, 3, 4, 5, 6)\n",
    "filtered_tuple = tuple(x for x in my_tuple if x % 2 != 0)\n",
    "print(filtered_tuple)\n",
    "#A generator expression is used to filter out even numbers from the tuple by checking the condition x % 2 != 0."
   ]
  },
  {
   "cell_type": "code",
   "execution_count": null,
   "metadata": {},
   "outputs": [],
   "source": [
    "\n",
    "#36. Multiply all elements in a tuple by 2\n",
    "my_tuple = (1, 2, 3, 4)\n",
    "multiplied_tuple = tuple(x * 2 for x in my_tuple)\n",
    "print(multiplied_tuple)\n",
    "#A generator expression is used to multiply each element of the tuple by 2.\n"
   ]
  },
  {
   "cell_type": "code",
   "execution_count": null,
   "metadata": {},
   "outputs": [],
   "source": [
    "#37. Create a tuple of random numbers\n",
    "import random\n",
    "random_tuple = tuple(random.randint(1, 100) for _ in range(5))\n",
    "print(random_tuple)\n",
    "#A tuple is created by generating random numbers using the random.randint() function within a specified range.\n"
   ]
  },
  {
   "cell_type": "code",
   "execution_count": null,
   "metadata": {},
   "outputs": [],
   "source": [
    "#38. Check if a tuple is sorted\n",
    "my_tuple = (1, 2, 3, 4)\n",
    "is_sorted = all(my_tuple[i] <= my_tuple[i+1] for i in range(len(my_tuple)-1))\n",
    "print(is_sorted)\n",
    "#The all() function is used with a generator expression to check if each element in the tuple is less than or equal to the next one.\n"
   ]
  },
  {
   "cell_type": "code",
   "execution_count": null,
   "metadata": {},
   "outputs": [],
   "source": [
    "#39. Rotate a tuple to the left by n positions\n",
    "my_tuple = (1, 2, 3, 4, 5)\n",
    "n = 2\n",
    "rotated_tuple = my_tuple[n:] + my_tuple[:n]\n",
    "print(rotated_tuple)\n",
    "#A tuple is rotated left by slicing it at index n and swapping the two parts.\n"
   ]
  },
  {
   "cell_type": "code",
   "execution_count": null,
   "metadata": {},
   "outputs": [],
   "source": [
    "#40. Rotate a tuple to the right by n positions\n",
    "my_tuple = (1, 2, 3, 4, 5)\n",
    "n = 2\n",
    "rotated_tuple = my_tuple[-n:] + my_tuple[:-n]\n",
    "print(rotated_tuple)\n",
    "#A tuple is rotated right by slicing it from the end with n positions and swapping the parts.\n"
   ]
  },
  {
   "cell_type": "code",
   "execution_count": null,
   "metadata": {},
   "outputs": [],
   "source": [
    "#41. Create a tuple of the first 5 Fibonacci numbers\n",
    "fibonacci = [0, 1]\n",
    "for i in range(2, 5):\n",
    "    fibonacci.append(fibonacci[i-1] + fibonacci[i-2])\n",
    "fibonacci_tuple = tuple(fibonacci)\n",
    "print(fibonacci_tuple)\n",
    "#The Fibonacci sequence is generated iteratively and stored as a tuple."
   ]
  },
  {
   "cell_type": "code",
   "execution_count": null,
   "metadata": {},
   "outputs": [],
   "source": [
    "\n",
    "#42. Create a tuple from user input\n",
    "user_input = input(\"Enter a list of values separated by commas: \")\n",
    "user_tuple = tuple(user_input.split(\",\"))\n",
    "print(user_tuple)\n",
    "#The input string is split by commas using the split() method, and the resulting list is converted into a tuple.\n"
   ]
  },
  {
   "cell_type": "code",
   "execution_count": null,
   "metadata": {},
   "outputs": [],
   "source": [
    "#43. Swap two elements in a tuple\n",
    "my_tuple = (1, 2, 3, 4)\n",
    "a, b = 1, 3\n",
    "swapped_tuple = my_tuple[:a] + (my_tuple[b],) + my_tuple[a+1:b] + (my_tuple[a],) + my_tuple[b+1:]\n",
    "print(swapped_tuple)\n",
    "#Tuple slicing is used to swap two elements by creating a new tuple with the elements in the desired positions.\n"
   ]
  },
  {
   "cell_type": "code",
   "execution_count": null,
   "metadata": {},
   "outputs": [],
   "source": [
    "#44. Reverse the elements of a tuple\n",
    "my_tuple = (1, 2, 3, 4)\n",
    "reversed_tuple = my_tuple[::-1]\n",
    "print(reversed_tuple)\n",
    "#The slicing [::-1] is used to reverse the elements of the tuple.\n"
   ]
  },
  {
   "cell_type": "code",
   "execution_count": null,
   "metadata": {},
   "outputs": [],
   "source": [
    "#45. Create a tuple of the first n powers of 2\n",
    "n = 5\n",
    "powers_of_2 = tuple(2**i for i in range(n))\n",
    "print(powers_of_2)\n",
    "#A tuple is created using a generator expression to compute the powers of 2 from 0 to n-1."
   ]
  },
  {
   "cell_type": "code",
   "execution_count": null,
   "metadata": {},
   "outputs": [],
   "source": [
    "\n",
    "#46. Find the longest string in a tuple of strings\n",
    "my_tuple = (\"apple\", \"banana\", \"cherry\")\n",
    "longest_string = max(my_tuple, key=len)\n",
    "print(longest_string)\n",
    "#The max() function is used with the key argument set to len to find the string with the maximum length.\n"
   ]
  },
  {
   "cell_type": "code",
   "execution_count": null,
   "metadata": {},
   "outputs": [],
   "source": [
    "#47. Find the shortest string in a tuple of strings\n",
    "my_tuple = (\"apple\", \"banana\", \"cherry\")\n",
    "shortest_string = min(my_tuple, key=len)\n",
    "print(shortest_string)\n",
    "#The min() function is used with the key argument set to len to find the string with the minimum length."
   ]
  },
  {
   "cell_type": "code",
   "execution_count": null,
   "metadata": {},
   "outputs": [],
   "source": [
    "\n",
    "#48. Create a tuple of the first n triangular numbers\n",
    "n = 5\n",
    "triangular_numbers = tuple(sum(range(i+1)) for i in range(n))\n",
    "print(triangular_numbers)\n",
    "#Triangular numbers are the sum of integers from 1 to i. The formula for the i-th triangular number is sum(range(i+1)).\n"
   ]
  },
  {
   "cell_type": "code",
   "execution_count": null,
   "metadata": {},
   "outputs": [],
   "source": [
    "#49. Check if a tuple contains another tuple as a subsequence\n",
    "tuple1 = (1, 2, 3, 4)\n",
    "tuple2 = (2, 3)\n",
    "contains_subsequence = all(x in tuple1 for x in tuple2)\n",
    "print(contains_subsequence)\n",
    "#The all() function checks if each element of tuple2 is contained in tuple1.\n"
   ]
  },
  {
   "cell_type": "code",
   "execution_count": null,
   "metadata": {},
   "outputs": [],
   "source": [
    "#50. Create a tuple of alternating 1s and 0s of length n\n",
    "n = 6\n",
    "alternating_tuple = tuple(1 if i % 2 == 0 else 0 for i in range(n))\n",
    "print(alternating_tuple)\n",
    "#A generator expression is used to create alternating 1s and 0s based on the index"
   ]
  },
  {
   "cell_type": "markdown",
   "metadata": {},
   "source": [
    "* Set Based Practice Problem"
   ]
  },
  {
   "cell_type": "code",
   "execution_count": null,
   "metadata": {},
   "outputs": [],
   "source": [
    "#1. Create a set with integers from 1 to 5\n",
    "my_set = {1, 2, 3, 4, 5}\n",
    "print(my_set)\n",
    "#A set is created directly with the integers 1 to 5.\n"
   ]
  },
  {
   "cell_type": "code",
   "execution_count": null,
   "metadata": {},
   "outputs": [],
   "source": [
    "#2. Add an element to a set\n",
    "my_set = {1, 2, 3, 4, 5}\n",
    "my_set.add(6)\n",
    "print(my_set)\n",
    "#The add() method is used to add an element to the set.\n"
   ]
  },
  {
   "cell_type": "code",
   "execution_count": null,
   "metadata": {},
   "outputs": [],
   "source": [
    "#3. Remove an element from a set\n",
    "my_set = {1, 2, 3, 4, 5}\n",
    "my_set.remove(3)\n",
    "print(my_set)\n",
    "#The remove() method removes the specified element from the set.\n"
   ]
  },
  {
   "cell_type": "code",
   "execution_count": null,
   "metadata": {},
   "outputs": [],
   "source": [
    "#4. Check if an element exists in a set\n",
    "my_set = {1, 2, 3, 4, 5}\n",
    "exists = 3 in my_set\n",
    "print(exists)\n",
    "#The in operator checks if an element exists in the set.\n"
   ]
  },
  {
   "cell_type": "code",
   "execution_count": null,
   "metadata": {},
   "outputs": [],
   "source": [
    "#5. Find the length of a set without using the len() function\n",
    "my_set = {1, 2, 3, 4, 5}\n",
    "set_length = sum(1 for _ in my_set)\n",
    "print(set_length)\n",
    "#A generator expression is used to iterate over the set and count the elements."
   ]
  },
  {
   "cell_type": "code",
   "execution_count": null,
   "metadata": {},
   "outputs": [],
   "source": [
    "\n",
    "# 6. Clear all elements from a set\n",
    "my_set = {1, 2, 3, 4, 5}\n",
    "my_set.clear()\n",
    "print(my_set)\n",
    "#The clear() method removes all elements from the set, making it empty.\n"
   ]
  },
  {
   "cell_type": "code",
   "execution_count": null,
   "metadata": {},
   "outputs": [],
   "source": [
    "#7. Create a set of even numbers from 1 to 10\n",
    "even_numbers = {x for x in range(1, 11) if x % 2 == 0}\n",
    "print(even_numbers)\n",
    "#A set comprehension is used to generate a set containing even numbers from 1 to 10.\n"
   ]
  },
  {
   "cell_type": "code",
   "execution_count": null,
   "metadata": {},
   "outputs": [],
   "source": [
    "#8. Create a set of odd numbers from 1 to 10\n",
    "odd_numbers = {x for x in range(1, 11) if x % 2 != 0}\n",
    "print(odd_numbers)\n",
    "#A set comprehension is used to generate a set containing odd numbers from 1 to 10."
   ]
  },
  {
   "cell_type": "code",
   "execution_count": null,
   "metadata": {},
   "outputs": [],
   "source": [
    "\n",
    "#9. Find the union of two sets\n",
    "set1 = {1, 2, 3}\n",
    "set2 = {3, 4, 5}\n",
    "union_set = set1.union(set2)\n",
    "print(union_set)\n",
    "#The union() method combines two sets, returning all unique elements from both."
   ]
  },
  {
   "cell_type": "code",
   "execution_count": null,
   "metadata": {},
   "outputs": [],
   "source": [
    "\n",
    "#10. Find the intersection of two sets\n",
    "set1 = {1, 2, 3}\n",
    "set2 = {3, 4, 5}\n",
    "intersection_set = set1.intersection(set2)\n",
    "print(intersection_set)\n",
    "#The intersection() method returns the common elements between two sets.\n"
   ]
  },
  {
   "cell_type": "code",
   "execution_count": null,
   "metadata": {},
   "outputs": [],
   "source": [
    "#11. Find the difference between two sets\n",
    "set1 = {1, 2, 3}\n",
    "set2 = {3, 4, 5}\n",
    "difference_set = set1.difference(set2)\n",
    "print(difference_set)\n",
    "#The difference() method returns the elements that are in set1 but not in set2.\n"
   ]
  },
  {
   "cell_type": "code",
   "execution_count": null,
   "metadata": {},
   "outputs": [],
   "source": [
    "#12. Check if a set is a subset of another set\n",
    "set1 = {1, 2}\n",
    "set2 = {1, 2, 3}\n",
    "is_subset = set1.issubset(set2)\n",
    "print(is_subset)\n",
    "#The issubset() method checks if set1 is a subset of set2 (i.e., all elements of set1 are in set2).\n"
   ]
  },
  {
   "cell_type": "code",
   "execution_count": null,
   "metadata": {},
   "outputs": [],
   "source": [
    "#13. Check if a set is a superset of another set\n",
    "set1 = {1, 2, 3}\n",
    "set2 = {2, 3}\n",
    "is_superset = set1.issuperset(set2)\n",
    "print(is_superset)\n",
    "#The issuperset() method checks if set1 contains all the elements of set2."
   ]
  },
  {
   "cell_type": "code",
   "execution_count": null,
   "metadata": {},
   "outputs": [],
   "source": [
    "\n",
    "#14. Create a set from a list\n",
    "my_list = [1, 2, 3, 4, 5]\n",
    "my_set = set(my_list)\n",
    "print(my_set)\n",
    "#A set is created from a list using the set() constructor."
   ]
  },
  {
   "cell_type": "code",
   "execution_count": null,
   "metadata": {},
   "outputs": [],
   "source": [
    "\n",
    "#15. Convert a set to a list\n",
    "my_set = {1, 2, 3, 4, 5}\n",
    "my_list = list(my_set)\n",
    "print(my_list)\n",
    "#A set is converted to a list using the list() constructor.\n"
   ]
  },
  {
   "cell_type": "code",
   "execution_count": null,
   "metadata": {},
   "outputs": [],
   "source": [
    "#16. Remove a random element from a set\n",
    "import random\n",
    "my_set = {1, 2, 3, 4, 5}\n",
    "random_element = random.choice(tuple(my_set))  # Convert set to tuple for indexing\n",
    "my_set.remove(random_element)\n",
    "print(my_set)\n",
    "#Since sets do not support direct indexing, the set is first converted to a tuple to pick a random element, then it is removed from the set.\n"
   ]
  },
  {
   "cell_type": "code",
   "execution_count": null,
   "metadata": {},
   "outputs": [],
   "source": [
    "#17. Pop an element from a set\n",
    "my_set = {1, 2, 3, 4, 5}\n",
    "popped_element = my_set.pop()\n",
    "print(popped_element)\n",
    "print(my_set)\n",
    "#The pop() method removes and returns a random element from the set.\n"
   ]
  },
  {
   "cell_type": "code",
   "execution_count": null,
   "metadata": {},
   "outputs": [],
   "source": [
    "#18 Check if two sets have no elements in common\n",
    "set1 = {1, 2, 3}\n",
    "set2 = {4, 5, 6}\n",
    "no_common_elements = set1.isdisjoint(set2)\n",
    "print(no_common_elements)\n",
    "#The isdisjoint() method checks if two sets have no elements in common.\n"
   ]
  },
  {
   "cell_type": "code",
   "execution_count": null,
   "metadata": {},
   "outputs": [],
   "source": [
    "#19. Find the symmetric difference between two sets\n",
    "set1 = {1, 2, 3}\n",
    "set2 = {3, 4, 5}\n",
    "sym_diff = set1.symmetric_difference(set2)\n",
    "print(sym_diff)\n",
    "#The symmetric_difference() method returns elements that are in either of the sets but not in both.\n"
   ]
  },
  {
   "cell_type": "code",
   "execution_count": null,
   "metadata": {},
   "outputs": [],
   "source": [
    "#20. Update a set with elements from another set\n",
    "set1 = {1, 2, 3}\n",
    "set2 = {3, 4, 5}\n",
    "set1.update(set2)\n",
    "print(set1)\n",
    "#The update() method adds all elements from set2 to set1."
   ]
  },
  {
   "cell_type": "code",
   "execution_count": null,
   "metadata": {},
   "outputs": [],
   "source": [
    "#21. Create a set of the first 5 prime numbers\n",
    "prime_set = {2, 3, 5, 7, 11}\n",
    "print(prime_set)\n",
    "#A set is created manually with the first five prime numbers.\n"
   ]
  },
  {
   "cell_type": "code",
   "execution_count": null,
   "metadata": {},
   "outputs": [],
   "source": [
    "#22. Check if two sets are identical\n",
    "set1 = {1, 2, 3}\n",
    "set2 = {3, 2, 1}\n",
    "identical = set1 == set2\n",
    "print(identical)\n",
    "#The equality operator (==) checks if two sets have the same elements, regardless of the order.\n"
   ]
  },
  {
   "cell_type": "code",
   "execution_count": null,
   "metadata": {},
   "outputs": [],
   "source": [
    "#23. Create a frozen set\n",
    "frozen_set = frozenset({1, 2, 3, 4, 5})\n",
    "print(frozen_set)\n",
    "#A frozenset is an immutable version of a set, meaning its elements cannot be changed after creation.\n"
   ]
  },
  {
   "cell_type": "code",
   "execution_count": null,
   "metadata": {},
   "outputs": [],
   "source": [
    "#24. Check if a set is disjoint with another set\n",
    "set1 = {1, 2, 3}\n",
    "set2 = {4, 5, 6}\n",
    "disjoint = set1.isdisjoint(set2)\n",
    "print(disjoint)\n",
    "#The isdisjoint() method checks if two sets have no elements in common."
   ]
  },
  {
   "cell_type": "code",
   "execution_count": null,
   "metadata": {},
   "outputs": [],
   "source": [
    "#25. Create a set of squares of numbers from 1 to 5\n",
    "squares_set = {x ** 2 for x in range(1, 6)}\n",
    "print(squares_set)\n",
    "#A set comprehension is used to generate the set of squares of numbers from 1 to 5.\n"
   ]
  },
  {
   "cell_type": "code",
   "execution_count": null,
   "metadata": {},
   "outputs": [],
   "source": [
    "#26. Filter out all even numbers from a set\n",
    "my_set = {1, 2, 3, 4, 5, 6, 7, 8, 9, 10}\n",
    "odd_set = {x for x in my_set if x % 2 != 0}\n",
    "print(odd_set)\n",
    "#A set comprehension is used to filter out even numbers, leaving only the odd numbers."
   ]
  },
  {
   "cell_type": "code",
   "execution_count": null,
   "metadata": {},
   "outputs": [],
   "source": [
    "\n",
    "#27. Multiply all elements in a set by 2\n",
    "my_set = {1, 2, 3, 4, 5}\n",
    "doubled_set = {x * 2 for x in my_set}\n",
    "print(doubled_set)\n",
    "#A set comprehension is used to multiply each element of the set by 2."
   ]
  },
  {
   "cell_type": "code",
   "execution_count": null,
   "metadata": {},
   "outputs": [],
   "source": [
    "\n",
    "#28. Create a set of random numbers\n",
    "import random\n",
    "random_set = {random.randint(1, 10) for _ in range(5)}\n",
    "print(random_set)\n",
    "#A set comprehension generates random numbers between 1 and 10."
   ]
  },
  {
   "cell_type": "code",
   "execution_count": null,
   "metadata": {},
   "outputs": [],
   "source": [
    "\n",
    "#29. Check if a set is empty\n",
    "my_set = {1, 2, 3}\n",
    "is_empty = len(my_set) == 0\n",
    "print(is_empty)\n",
    "#The length of the set is checked using the len() function. If it's 0, the set is empty.\n"
   ]
  },
  {
   "cell_type": "code",
   "execution_count": null,
   "metadata": {},
   "outputs": [],
   "source": [
    "#30. Create a nested set (hint: use frozenset)\n",
    "nested_set = frozenset({1, 2, 3})\n",
    "outer_set = {nested_set, 4, 5}\n",
    "print(outer_set)\n",
    "#A frozenset is used because regular sets cannot be nested inside other sets. frozenset is immutable, so it can be used as an element of another set.\n"
   ]
  },
  {
   "cell_type": "code",
   "execution_count": null,
   "metadata": {},
   "outputs": [],
   "source": [
    "#31. Remove an element from a set using the discard method\n",
    "my_set = {1, 2, 3, 4, 5}\n",
    "my_set.discard(3)\n",
    "print(my_set)\n",
    "#The discard() method removes an element from the set if it exists. Unlike remove(), it does not raise an error if the element is not present.\n"
   ]
  },
  {
   "cell_type": "code",
   "execution_count": null,
   "metadata": {},
   "outputs": [],
   "source": [
    "#32. Compare two sets\n",
    "set1 = {1, 2, 3}\n",
    "set2 = {1, 2, 3}\n",
    "set3 = {4, 5, 6}\n",
    "are_identical = set1 == set2\n",
    "are_different = set1 != set3\n",
    "print(are_identical, are_different)\n",
    "#The equality operator (==) checks if two sets have identical elements. The inequality operator (!=) checks if two sets have different elements."
   ]
  },
  {
   "cell_type": "code",
   "execution_count": null,
   "metadata": {},
   "outputs": [],
   "source": [
    "\n",
    "#33. Create a set from a string\n",
    "my_string = \"hello\"\n",
    "my_set = set(my_string)\n",
    "print(my_set)\n",
    "#A set is created by converting a string into a set, which removes duplicates and retains only unique characters."
   ]
  },
  {
   "cell_type": "code",
   "execution_count": null,
   "metadata": {},
   "outputs": [],
   "source": [
    "\n",
    "#34. Convert a set of strings to a set of integers\n",
    "str_set = {'1', '2', '3'}\n",
    "int_set = {int(x) for x in str_set}\n",
    "print(int_set)\n",
    "#A set comprehension is used to convert each string element in the set to an integer.\n"
   ]
  },
  {
   "cell_type": "code",
   "execution_count": null,
   "metadata": {},
   "outputs": [],
   "source": [
    "#35. Convert a set of integers to a set of strings\n",
    "int_set = {1, 2, 3}\n",
    "str_set = {str(x) for x in int_set}\n",
    "print(str_set)\n",
    "#A set comprehension is used to convert each integer element in the set to a string.\n"
   ]
  },
  {
   "cell_type": "code",
   "execution_count": null,
   "metadata": {},
   "outputs": [],
   "source": [
    "#36. Create a set from a tuple\n",
    "my_tuple = (1, 2, 3, 4, 5)\n",
    "my_set = set(my_tuple)\n",
    "print(my_set)\n",
    "#A set is created from a tuple using the set() constructor."
   ]
  },
  {
   "cell_type": "code",
   "execution_count": null,
   "metadata": {},
   "outputs": [],
   "source": [
    "\n",
    "#37. Convert a set to a tuple\n",
    "my_set = {1, 2, 3, 4, 5}\n",
    "my_tuple = tuple(my_set)\n",
    "print(my_tuple)\n",
    "#A set is converted to a tuple using the tuple() constructor."
   ]
  },
  {
   "cell_type": "code",
   "execution_count": null,
   "metadata": {},
   "outputs": [],
   "source": [
    "\n",
    "#38. Find the maximum value in a set\n",
    "my_set = {1, 2, 3, 4, 5}\n",
    "max_value = max(my_set)\n",
    "print(max_value)\n",
    "#The max() function returns the maximum value from the set.\n"
   ]
  },
  {
   "cell_type": "code",
   "execution_count": null,
   "metadata": {},
   "outputs": [],
   "source": [
    "#39. Find the minimum value in a set\n",
    "my_set = {1, 2, 3, 4, 5}\n",
    "min_value = min(my_set)\n",
    "print(min_value)\n",
    "#The min() function returns the minimum value from the set.\n"
   ]
  },
  {
   "cell_type": "code",
   "execution_count": null,
   "metadata": {},
   "outputs": [],
   "source": [
    "#40. Create a set from user input\n",
    "user_input = input(\"Enter values separated by spaces: \")\n",
    "user_set = set(user_input.split())\n",
    "print(user_set)\n",
    "#The input() function takes user input, and split() divides the string into separate values, which are converted into a set."
   ]
  },
  {
   "cell_type": "code",
   "execution_count": null,
   "metadata": {},
   "outputs": [],
   "source": [
    "#41. Check if the intersection of two sets is empty\n",
    "set1 = {1, 2, 3}\n",
    "set2 = {4, 5, 6}\n",
    "intersection_empty = set1.isdisjoint(set2)\n",
    "print(intersection_empty)\n",
    "#The isdisjoint() method checks if there are no common elements between the two sets. If the intersection is empty, it returns True.\n"
   ]
  },
  {
   "cell_type": "code",
   "execution_count": null,
   "metadata": {},
   "outputs": [],
   "source": [
    "#42. Create a set of the first 5 Fibonacci numbers\n",
    "fibonacci_set = {0, 1, 1, 2, 3}\n",
    "print(fibonacci_set)\n",
    "#A set of the first few Fibonacci numbers is manually created. Note that sets automatically remove duplicate values (like the two '1's in the Fibonacci sequence).\n"
   ]
  },
  {
   "cell_type": "code",
   "execution_count": null,
   "metadata": {},
   "outputs": [],
   "source": [
    "#43. Remove duplicates from a list using sets\n",
    "my_list = [1, 2, 3, 2, 4, 5, 5, 6]\n",
    "unique_set = set(my_list)\n",
    "print(unique_set)\n",
    "#A list is converted to a set, which automatically removes duplicate elements.\n"
   ]
  },
  {
   "cell_type": "code",
   "execution_count": null,
   "metadata": {},
   "outputs": [],
   "source": [
    "#44. Check if two sets have the same elements, regardless of their count\n",
    "set1 = {1, 2, 3}\n",
    "set2 = {3, 2, 1}\n",
    "are_same = set1 == set2\n",
    "print(are_same)\n",
    "#The == operator checks if two sets contain the same elements, regardless of order or frequency."
   ]
  },
  {
   "cell_type": "code",
   "execution_count": null,
   "metadata": {},
   "outputs": [],
   "source": [
    "\n",
    "#45. Create a set of the first n powers of 2\n",
    "n = 5\n",
    "powers_of_2 = {2 ** i for i in range(n)}\n",
    "print(powers_of_2)\n",
    "#A set comprehension is used to generate the first n powers of 2."
   ]
  },
  {
   "cell_type": "code",
   "execution_count": null,
   "metadata": {},
   "outputs": [],
   "source": [
    "\n",
    "#46. Find the common elements between a set and a list\n",
    "my_set = {1, 2, 3, 4, 5}\n",
    "my_list = [3, 4, 5, 6, 7]\n",
    "common_elements = my_set.intersection(my_list)\n",
    "print(common_elements)\n",
    "#The intersection() method returns the common elements between a set and another iterable, in this case, a list.\n"
   ]
  },
  {
   "cell_type": "code",
   "execution_count": null,
   "metadata": {},
   "outputs": [],
   "source": [
    "#47. Create a set of the first n triangular numbers\n",
    "n = 5\n",
    "triangular_numbers = {i * (i + 1) // 2 for i in range(1, n + 1)}\n",
    "print(triangular_numbers)\n",
    "#A set comprehension is used to generate the first n triangular numbers. The formula for the ith triangular number is i * (i + 1) // 2.\n"
   ]
  },
  {
   "cell_type": "code",
   "execution_count": null,
   "metadata": {},
   "outputs": [],
   "source": [
    "#48. Check if a set contains another set as a subset\n",
    "set1 = {1, 2, 3}\n",
    "set2 = {2, 3}\n",
    "is_subset = set2.issubset(set1)\n",
    "print(is_subset)\n",
    "#The issubset() method checks if all elements of set2 are present in set1.\n"
   ]
  },
  {
   "cell_type": "code",
   "execution_count": null,
   "metadata": {},
   "outputs": [],
   "source": [
    "#49. Create a set of alternating 1s and 0s of length n\n",
    "n = 6\n",
    "alternating_set = {1 if i % 2 == 0 else 0 for i in range(n)}\n",
    "print(alternating_set)\n",
    "#A set comprehension is used to create alternating 1s and 0s. Since sets do not allow duplicates, the result will contain only 0 and 1."
   ]
  },
  {
   "cell_type": "code",
   "execution_count": null,
   "metadata": {},
   "outputs": [],
   "source": [
    "\n",
    "#50. Merge multiple sets into one\n",
    "set1 = {1, 2, 3}\n",
    "set2 = {4, 5, 6}\n",
    "set3 = {7, 8, 9}\n",
    "merged_set = set1.union(set2, set3)\n",
    "print(merged_set)\n",
    "#The union() method is used to merge multiple sets into one."
   ]
  }
 ],
 "metadata": {
  "kernelspec": {
   "display_name": "Python 3",
   "language": "python",
   "name": "python3"
  },
  "language_info": {
   "codemirror_mode": {
    "name": "ipython",
    "version": 3
   },
   "file_extension": ".py",
   "mimetype": "text/x-python",
   "name": "python",
   "nbconvert_exporter": "python",
   "pygments_lexer": "ipython3",
   "version": "3.12.4"
  }
 },
 "nbformat": 4,
 "nbformat_minor": 2
}
